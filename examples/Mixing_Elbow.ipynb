{
 "cells": [
  {
   "cell_type": "markdown",
   "id": "afc69282-f227-4b1f-bf40-f45b58af6d45",
   "metadata": {
    "tags": []
   },
   "source": [
    " # Minimal example for PyEnSight on Ansys Lab"
   ]
  },
  {
   "cell_type": "markdown",
   "id": "49d42ee0-7077-4590-a63f-ffce51cfbc6e",
   "metadata": {
    "tags": []
   },
   "source": [
    "This example shows the minimum steps needed to start pyensight, load an included dataset, and display an image via Ansys Lab."
   ]
  },
  {
   "cell_type": "markdown",
   "id": "b8d0b1e8-43f4-4957-a550-20831b81cd82",
   "metadata": {
    "tags": []
   },
   "source": [
    "# Launch EnSight.\n",
    "An EnSight Container is launched on Ansys Lab using launch_ensight(). Optional arguments can be specified to launch_ensight() such as to use EnSight SoS or enable the EnSight REST API.\n",
    "Currently, the EnSight Docker Image is rather large.  Starting it the first time in a Notebook may take a minute or two while the Image is downloaded."
   ]
  },
  {
   "cell_type": "code",
   "execution_count": 1,
   "id": "92079835-3be6-47af-8e19-29a70ca44a3e",
   "metadata": {},
   "outputs": [
    {
     "name": "stdout",
     "output_type": "stream",
     "text": [
      "CEI_HOME= /ansys_inc/v241/CEI\n",
      "Ansys Version= 241\n"
     ]
    }
   ],
   "source": [
    "from ansys.pyensight.core import launch_ensight\n",
    "session = launch_ensight()"
   ]
  },
  {
   "cell_type": "markdown",
   "id": "f08a54fe-2ef5-4df6-8ce4-9d07ebb1742b",
   "metadata": {},
   "source": [
    "# Load the elbow dataset included in the EnSight Docker Image."
   ]
  },
  {
   "cell_type": "code",
   "execution_count": null,
   "id": "73d393ea-af8b-4a36-b645-5393f53fa080",
   "metadata": {},
   "outputs": [],
   "source": [
    "session.load_data(f\"{session.cei_home}/ensight{session.cei_suffix}/data/elbow/mixing_elbow.cas.h5\", result_file=f\"{session.cei_home}/ensight{session.cei_suffix}/data/elbow/mixing_elbow.dat.h5\")"
   ]
  },
  {
   "cell_type": "markdown",
   "id": "047cb5ed-0f13-4067-ba70-611d2a0c9509",
   "metadata": {},
   "source": [
    "# The next cell shows a non-interactive view of the dataset."
   ]
  },
  {
   "cell_type": "code",
   "execution_count": null,
   "id": "92c73042-e9f4-489f-b4be-62334811625f",
   "metadata": {},
   "outputs": [],
   "source": [
    "data=session.render(1920,1280)\n",
    "from IPython.display import display, Image\n",
    "display(Image(data))"
   ]
  },
  {
   "cell_type": "markdown",
   "id": "bdd57e8d-9ee1-4052-b002-79af7b754d90",
   "metadata": {},
   "source": [
    "# Shutdown EnSight and the session."
   ]
  },
  {
   "cell_type": "code",
   "execution_count": null,
   "id": "c7135e4f-b4e5-4de9-9c77-e59c6221bab7",
   "metadata": {},
   "outputs": [],
   "source": [
    "session.close()"
   ]
  },
  {
   "cell_type": "code",
   "execution_count": null,
   "id": "970f75c5-6812-4f7d-99d6-83ae711d930b",
   "metadata": {},
   "outputs": [],
   "source": []
  }
 ],
 "metadata": {
  "kernelspec": {
   "display_name": "Python 3 (ipykernel)",
   "language": "python",
   "name": "python3"
  },
  "language_info": {
   "codemirror_mode": {
    "name": "ipython",
    "version": 3
   },
   "file_extension": ".py",
   "mimetype": "text/x-python",
   "name": "python",
   "nbconvert_exporter": "python",
   "pygments_lexer": "ipython3",
   "version": "3.9.12"
  }
 },
 "nbformat": 4,
 "nbformat_minor": 5
}

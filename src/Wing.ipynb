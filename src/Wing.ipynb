{
 "cells": [
  {
   "cell_type": "code",
   "execution_count": null,
   "id": "f2243fc1",
   "metadata": {},
   "outputs": [],
   "source": [
    "from IPython.display import display, Image\n",
    "from ansys.pyensight import LocalLauncher\n",
    "session = LocalLauncher().start()"
   ]
  },
  {
   "cell_type": "code",
   "execution_count": null,
   "id": "6bddab46",
   "metadata": {},
   "outputs": [],
   "source": [
    "session"
   ]
  },
  {
   "cell_type": "code",
   "execution_count": null,
   "id": "a8c5e150",
   "metadata": {},
   "outputs": [],
   "source": [
    "session.load_data(\"D:/ANSYSDev/data/dvs/Wing/rwing_bsl.cas\", result_file=\"D:/ANSYSDev/data/dvs/Wing/rwing_bsl.dat\")"
   ]
  },
  {
   "cell_type": "code",
   "execution_count": null,
   "id": "07846227",
   "metadata": {},
   "outputs": [],
   "source": [
    "session.ensight.view_transf.rotate(0., 10., 0.)\n",
    "png_data = session.render(800, 600)\n",
    "display(Image(png_data))"
   ]
  },
  {
   "cell_type": "code",
   "execution_count": null,
   "id": "cb51216f",
   "metadata": {},
   "outputs": [],
   "source": [
    "session.show(\"webgl\")"
   ]
  },
  {
   "cell_type": "code",
   "execution_count": null,
   "id": "986163d2",
   "metadata": {},
   "outputs": [],
   "source": [
    "session.show(\"remote\")"
   ]
  },
  {
   "cell_type": "code",
   "execution_count": null,
   "id": "78bf1831",
   "metadata": {},
   "outputs": [],
   "source": [
    "session.ensight.file.restore_context(\"D:/ANSYSDev/data/dvs/Wing/standalone.ctx\")"
   ]
  },
  {
   "cell_type": "code",
   "execution_count": null,
   "id": "bb13c4ef",
   "metadata": {},
   "outputs": [],
   "source": [
    "glb_data = session.geometry()\n",
    "with open(\"file.glb\", \"wb\") as f:\n",
    "    f.write(glb_data)"
   ]
  },
  {
   "cell_type": "code",
   "execution_count": null,
   "id": "1f2939ec",
   "metadata": {},
   "outputs": [],
   "source": [
    "session.help()"
   ]
  },
  {
   "cell_type": "code",
   "execution_count": null,
   "id": "ff636b5a",
   "metadata": {},
   "outputs": [],
   "source": [
    "session.close()"
   ]
  },
  {
   "cell_type": "code",
   "execution_count": null,
   "id": "5d28561e",
   "metadata": {},
   "outputs": [],
   "source": []
  },
  {
   "cell_type": "code",
   "execution_count": null,
   "id": "de1f23bd",
   "metadata": {},
   "outputs": [],
   "source": [
    "from ansys.pyensight import LocalLauncher\n",
    "envision = LocalLauncher(application=\"envision\").start()"
   ]
  },
  {
   "cell_type": "code",
   "execution_count": null,
   "id": "3c9d8884",
   "metadata": {},
   "outputs": [],
   "source": [
    "envision.show(\"remote\")"
   ]
  },
  {
   "cell_type": "code",
   "execution_count": null,
   "id": "4416dfa2",
   "metadata": {},
   "outputs": [],
   "source": [
    "envision.load_data(r\"D:/ANSYSDev/data/dvs/Wing/heart_view.evsn\")"
   ]
  },
  {
   "cell_type": "code",
   "execution_count": null,
   "id": "4c37679e",
   "metadata": {},
   "outputs": [],
   "source": [
    "envision.close()"
   ]
  },
  {
   "cell_type": "code",
   "execution_count": null,
   "id": "06f3ac2d",
   "metadata": {},
   "outputs": [],
   "source": []
  }
 ],
 "metadata": {
  "kernelspec": {
   "display_name": "Python 3 (ipykernel)",
   "language": "python",
   "name": "python3"
  },
  "language_info": {
   "codemirror_mode": {
    "name": "ipython",
    "version": 3
   },
   "file_extension": ".py",
   "mimetype": "text/x-python",
   "name": "python",
   "nbconvert_exporter": "python",
   "pygments_lexer": "ipython3",
   "version": "3.9.10"
  }
 },
 "nbformat": 4,
 "nbformat_minor": 5
}

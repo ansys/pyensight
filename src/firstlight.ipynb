{
 "cells": [
  {
   "cell_type": "code",
   "execution_count": null,
   "id": "c1ce1ca9",
   "metadata": {},
   "outputs": [],
   "source": [
    "from ansys.pyensight import LocalLauncher\n",
    "session = LocalLauncher().start()"
   ]
  },
  {
   "cell_type": "code",
   "execution_count": null,
   "id": "325c52c6",
   "metadata": {},
   "outputs": [],
   "source": [
    "print(repr(session))"
   ]
  },
  {
   "cell_type": "code",
   "execution_count": null,
   "id": "ed875cdd",
   "metadata": {},
   "outputs": [],
   "source": [
    "session.load_data(r'D:\\ANSYSDev\\data\\CFX\\HeatingCoil_001.res')"
   ]
  },
  {
   "cell_type": "code",
   "execution_count": null,
   "id": "b734d983",
   "metadata": {},
   "outputs": [],
   "source": [
    "session.ensight.view_transf.rotate(5.3076935,5.5795822,0)\n",
    "png_data = session.render(800, 600)\n",
    "from IPython.display import display, Image\n",
    "display(Image(png_data))"
   ]
  },
  {
   "cell_type": "code",
   "execution_count": null,
   "id": "03f50c0b",
   "metadata": {},
   "outputs": [],
   "source": [
    "webgl = session.show(\"webgl\")"
   ]
  },
  {
   "cell_type": "code",
   "execution_count": null,
   "id": "8b28426e",
   "metadata": {},
   "outputs": [],
   "source": [
    "webgl"
   ]
  },
  {
   "cell_type": "code",
   "execution_count": null,
   "id": "43152f4c",
   "metadata": {},
   "outputs": [],
   "source": [
    "remote = session.show(\"remote\")"
   ]
  },
  {
   "cell_type": "code",
   "execution_count": null,
   "id": "7c73bad6",
   "metadata": {},
   "outputs": [],
   "source": [
    "remote"
   ]
  },
  {
   "cell_type": "code",
   "execution_count": null,
   "id": "8a52e2c8",
   "metadata": {},
   "outputs": [],
   "source": [
    "glb_data = session.geometry()\n",
    "with open(\"file.glb\", \"wb\") as f:\n",
    "    f.write(glb_data)"
   ]
  },
  {
   "cell_type": "code",
   "execution_count": null,
   "id": "193826f2",
   "metadata": {},
   "outputs": [],
   "source": [
    "session.help()"
   ]
  },
  {
   "cell_type": "code",
   "execution_count": null,
   "id": "4638af39",
   "metadata": {},
   "outputs": [],
   "source": [
    "session.close()"
   ]
  },
  {
   "cell_type": "code",
   "execution_count": null,
   "id": "cdc0c4f1-063b-44a0-a961-e32b1000963a",
   "metadata": {},
   "outputs": [],
   "source": []
  }
 ],
 "metadata": {
  "kernelspec": {
   "display_name": "Python 3 (ipykernel)",
   "language": "python",
   "name": "python3"
  },
  "language_info": {
   "codemirror_mode": {
    "name": "ipython",
    "version": 3
   },
   "file_extension": ".py",
   "mimetype": "text/x-python",
   "name": "python",
   "nbconvert_exporter": "python",
   "pygments_lexer": "ipython3",
   "version": "3.9.10"
  }
 },
 "nbformat": 4,
 "nbformat_minor": 5
}

{
 "cells": [
  {
   "cell_type": "code",
   "execution_count": null,
   "id": "3400ffb8",
   "metadata": {},
   "outputs": [],
   "source": [
    "from ansys.pyensight import Session\n",
    "session ="
   ]
  },
  {
   "cell_type": "code",
   "execution_count": null,
   "id": "3497aa81",
   "metadata": {},
   "outputs": [],
   "source": [
    "session.show(\"webgl\")"
   ]
  },
  {
   "cell_type": "code",
   "execution_count": null,
   "id": "a3d792dd",
   "metadata": {},
   "outputs": [],
   "source": [
    "remote = session.show(\"remote\")"
   ]
  },
  {
   "cell_type": "code",
   "execution_count": null,
   "id": "2586197e",
   "metadata": {},
   "outputs": [],
   "source": [
    "from ipywidgets import widgets\n",
    "out = widgets.HTML()\n",
    "display(out)\n",
    "\n",
    "def callback(uri):\n",
    "    parts = session.cmd(\"[[p.DESCRIPTION, p.VISIBLE] for p in ensight.objs.core.PARTS]\")\n",
    "    s = \"<ul>\"\n",
    "    for p in parts:\n",
    "        s += f\"<li>{p[0]} : {str(p[1])}</li>\"\n",
    "    s += \"</ul>\"    \n",
    "    out.value = s\n",
    "    \n",
    "session.add_callback(\"ensight.objs.core\", \"partlist\", [session.ensight.objs.enums.PARTS], callback)\n",
    "session.add_callback(\"'ENS_PART'\", \"visible\", [session.ensight.objs.enums.VISIBLE], callback)"
   ]
  },
  {
   "cell_type": "code",
   "execution_count": null,
   "id": "2a83f9f7",
   "metadata": {},
   "outputs": [],
   "source": [
    "from ipywidgets import widgets\n",
    "from urllib.parse import urlparse, parse_qsl\n",
    "vp_out = widgets.HTML()\n",
    "display(vp_out)\n",
    "\n",
    "def vp_callback(uri):\n",
    "    p = urlparse(uri)\n",
    "    q = parse_qsl(p.query)\n",
    "    vp_out.value = str(q)\n",
    "    \n",
    "session.add_callback(\"'ENS_VPORT'\", \"vport?width={{WIDTH}}&height={{HEIGHT}}&x={{ORIGINX}}&y={{ORIGINY}}\", \n",
    "                     [session.ensight.objs.enums.ORIGINX,\n",
    "                      session.ensight.objs.enums.ORIGINY,\n",
    "                      session.ensight.objs.enums.WIDTH,\n",
    "                      session.ensight.objs.enums.HEIGHT], vp_callback)"
   ]
  },
  {
   "cell_type": "code",
   "execution_count": null,
   "id": "33fe4f41",
   "metadata": {},
   "outputs": [],
   "source": [
    "session.remove_callback('vport')"
   ]
  },
  {
   "cell_type": "code",
   "execution_count": null,
   "id": "c35f6931-1524-43d3-bc1e-e9bfb583ac5a",
   "metadata": {},
   "outputs": [],
   "source": []
  }
 ],
 "metadata": {
  "kernelspec": {
   "display_name": "Python 3 (ipykernel)",
   "language": "python",
   "name": "python3"
  },
  "language_info": {
   "codemirror_mode": {
    "name": "ipython",
    "version": 3
   },
   "file_extension": ".py",
   "mimetype": "text/x-python",
   "name": "python",
   "nbconvert_exporter": "python",
   "pygments_lexer": "ipython3",
   "version": "3.9.10"
  }
 },
 "nbformat": 4,
 "nbformat_minor": 5
}

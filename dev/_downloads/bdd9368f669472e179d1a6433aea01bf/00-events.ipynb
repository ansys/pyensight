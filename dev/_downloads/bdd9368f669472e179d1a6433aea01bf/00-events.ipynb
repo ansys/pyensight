{
  "cells": [
    {
      "cell_type": "code",
      "execution_count": null,
      "metadata": {
        "collapsed": false
      },
      "outputs": [],
      "source": [
        "# PyEnSight example Notebook\n#"
      ]
    },
    {
      "cell_type": "markdown",
      "metadata": {},
      "source": [
        "\n\n# Asynchronous Event Support\n\nEvery attribute change may have an event callback associated with it.\nIn this example, different connection mechanisms are explored along\nwith different mechanisms for getting data values.\n"
      ]
    },
    {
      "cell_type": "markdown",
      "metadata": {},
      "source": [
        "## Start an EnSight session\nStart by launching and connecting to an instance of EnSight.\nIn this case, we use a local installation of EnSight.\n\n"
      ]
    },
    {
      "cell_type": "code",
      "execution_count": null,
      "metadata": {
        "collapsed": false
      },
      "outputs": [],
      "source": [
        "from urllib.parse import parse_qs, urlparse\n\nfrom IPython.display import display\nfrom ipywidgets import widgets\n\nfrom ansys.pyensight import LocalLauncher\n\nsession = LocalLauncher().start()"
      ]
    },
    {
      "cell_type": "markdown",
      "metadata": {},
      "source": [
        "## Simple event\n\nThe simplest case is to register a callback for a specific attribute on a\nspecific object.  Here a callback is registered to the 'ensight.objs.core'\nobject.  Whenever the PARTS attribute changes, the callback function will\nbe called.  This function will be called when we load a dataset.  Every\ncallback function includes a string that is returned as a parameter to the\ncallback function.\n\n"
      ]
    },
    {
      "cell_type": "code",
      "execution_count": null,
      "metadata": {
        "collapsed": false
      },
      "outputs": [],
      "source": [
        "partlist_disp = widgets.HTML()\ndisplay(partlist_disp)\n\n\ndef part_list(name: str):\n    partlist_disp.value = f\"Event: {name}\"\n\n\nsession.add_callback(session.ensight.objs.core, \"partlist_name\", [\"PARTS\"], part_list)"
      ]
    },
    {
      "cell_type": "markdown",
      "metadata": {},
      "source": [
        "## Load a dataset\n\n<img src=\"file://_static/00_events_0.png\">\n\nLoad some data included in the EnSight distribution and bring up and interactive\nviewer for the scene.\n\nNote the callback string:  grpc://.../partlist_name?enum=PARTS&uid=220\nThe callback is in the form of a URI.  \"partlist_name\" is the string from the add_callback()\ncall.  The name of the attribute is always returned as \"enum\" and the id of the object\nwill be returned in \"uid\".\n\n"
      ]
    },
    {
      "cell_type": "code",
      "execution_count": null,
      "metadata": {
        "collapsed": false
      },
      "outputs": [],
      "source": [
        "session.load_data(f\"{session.cei_home}/ensight{session.cei_suffix}/data/guard_rail/crash.case\")\nrender = session.show(\"remote\")"
      ]
    },
    {
      "cell_type": "markdown",
      "metadata": {},
      "source": [
        "## Class event callback\n\n<img src=\"file://_static/00_events_1.png\">\n\nEvents can be associated with classes as well.  Here we associate a callback\nwith all part objects, listening to both the VISIBLE and COLORBYRGB attributes.\nThe urllib module is used to parse out the returned value.\n\nAfter running this code, the cell value will call out the change in the\ncolor of the windshield.\n\n"
      ]
    },
    {
      "cell_type": "code",
      "execution_count": null,
      "metadata": {
        "collapsed": false
      },
      "outputs": [],
      "source": [
        "part_disp = widgets.HTML()\ndisplay(part_disp)\n\n\ndef part_event(uri: str):\n    p = urlparse(uri)\n    q = parse_qs(p.query)\n    obj = session.ensight.objs.wrap_id(int(q[\"uid\"][0]))\n    value = obj.getattr(q[\"enum\"][0])\n    part_disp.value = f\"Part: {obj}, Attribute: {q['enum'][0]} Value: {value}\"\n\n\nattribs = [session.ensight.objs.enums.VISIBLE, session.ensight.objs.enums.COLORBYRGB]\nsession.add_callback(\"'ENS_PART'\", \"partattr\", attribs, part_event)\n\nsession.ensight.objs.core.PARTS[\"hood\"][0].COLORBYRGB = [1.0, 0.0, 0.0]"
      ]
    },
    {
      "cell_type": "markdown",
      "metadata": {},
      "source": [
        "## Trigger Visible Attribute\n\n<img src=\"file://_static/00_events_2.png\">\n\nChanging the visible attribute will trigger the same callback, but with\ndifferent values.\n\n"
      ]
    },
    {
      "cell_type": "code",
      "execution_count": null,
      "metadata": {
        "collapsed": false
      },
      "outputs": [],
      "source": [
        "session.ensight.objs.core.parts[\"windshields\"].set_attr(session.ensight.objs.enums.VISIBLE, True)"
      ]
    },
    {
      "cell_type": "markdown",
      "metadata": {},
      "source": [
        "## Callback macros\n\n<img src=\"file://_static/00_events_3.png\">\n\nThe name string includes a mechanism for including target object values directly\nin the returned URI.  This mechanism avoids the need to make PyEnSight calls\nfrom within a callback function.  This can avoid reentrancy and performance\nissues.  This approach is more efficient than the previous example.\n\nExtending the previous example to capture both visibility and RGB color\nvalues using the macro mechanism.\n\n"
      ]
    },
    {
      "cell_type": "code",
      "execution_count": null,
      "metadata": {
        "collapsed": false
      },
      "outputs": [],
      "source": [
        "macro_disp = widgets.HTML()\ndisplay(macro_disp)\n\n\ndef macro_event(uri: str):\n    p = urlparse(uri)\n    q = parse_qs(p.query)\n    obj = session.ensight.objs.wrap_id(int(q[\"uid\"][0]))\n    obj.getattr(q[\"enum\"][0])\n    macro_disp.value = f\"Part: {obj}, Attr: {q['enum'][0]} Visible: {q['visible']}  RGB: {q['rgb']}\"\n\n\nattribs = [session.ensight.objs.enums.VISIBLE, session.ensight.objs.enums.COLORBYRGB]\nname = \"partmacro?visible={{VISIBLE}}&rgb={{COLORBYRGB}}\"\nsession.add_callback(\"'ENS_PART'\", name, attribs, macro_event)\n\nsession.ensight.objs.core.PARTS[\"hood\"][0].COLORBYRGB = [0.0, 1.0, 0.0]"
      ]
    },
    {
      "cell_type": "markdown",
      "metadata": {},
      "source": [
        "## Close the session\nClose the connection and shut down the EnSight instance\n\n"
      ]
    },
    {
      "cell_type": "code",
      "execution_count": null,
      "metadata": {
        "collapsed": false
      },
      "outputs": [],
      "source": [
        "session.close()"
      ]
    }
  ],
  "metadata": {
    "kernelspec": {
      "display_name": "Python 3",
      "language": "python",
      "name": "python3"
    },
    "language_info": {
      "codemirror_mode": {
        "name": "ipython",
        "version": 3
      },
      "file_extension": ".py",
      "mimetype": "text/x-python",
      "name": "python",
      "nbconvert_exporter": "python",
      "pygments_lexer": "ipython3",
      "version": "3.9.17"
    }
  },
  "nbformat": 4,
  "nbformat_minor": 0
}
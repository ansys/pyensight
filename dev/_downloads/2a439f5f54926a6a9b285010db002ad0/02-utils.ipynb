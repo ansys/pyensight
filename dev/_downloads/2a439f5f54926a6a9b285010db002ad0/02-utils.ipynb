{
  "cells": [
    {
      "cell_type": "code",
      "execution_count": null,
      "metadata": {
        "collapsed": false
      },
      "outputs": [],
      "source": [
        "# PyEnSight example Notebook\n#"
      ]
    },
    {
      "cell_type": "markdown",
      "metadata": {},
      "source": [
        "\n\n# Basic EnSight Utils\n\nThe utils modules in PyEnSight have been designed to expose standard\npost-processing operations via simplified APIs.\nThe example walks through the utils modules with some examples on\nhow they can be used to perform easily specific operations.\n"
      ]
    },
    {
      "cell_type": "markdown",
      "metadata": {},
      "source": [
        "## Start an EnSight session\nStart by launching and connecting to an instance of EnSight.\nIn this case, we use a local installation of EnSight.\n\n"
      ]
    },
    {
      "cell_type": "code",
      "execution_count": null,
      "metadata": {
        "collapsed": false
      },
      "outputs": [],
      "source": [
        "from ansys.pyensight import LocalLauncher\nfrom ansys.pyensight.enscontext import EnsContext\n\nsession = LocalLauncher().start()"
      ]
    },
    {
      "cell_type": "markdown",
      "metadata": {},
      "source": [
        "## Load the data\n\n<img src=\"file://_static/02_utils_0.png\">\n\nHere we use a remote session to load a simple time-varying dataset of\nwaterflow over a break.\n\n"
      ]
    },
    {
      "cell_type": "code",
      "execution_count": null,
      "metadata": {
        "collapsed": false
      },
      "outputs": [],
      "source": [
        "session.load_example(\"waterbreak.ens\")\nsession.show(\"image\", width=800, height=600)"
      ]
    },
    {
      "cell_type": "markdown",
      "metadata": {},
      "source": [
        "## \"Load\" the utils modules\n\nThe utils modules are available as instances of ensight.utils. In this example\nto allow a more simple use, they are casted into new variables with the same names.\n\n"
      ]
    },
    {
      "cell_type": "code",
      "execution_count": null,
      "metadata": {
        "collapsed": false
      },
      "outputs": [],
      "source": [
        "parts = session.ensight.utils.parts\nviews = session.ensight.utils.views\nquery = session.ensight.utils.query"
      ]
    },
    {
      "cell_type": "markdown",
      "metadata": {},
      "source": [
        "## Capture a context of the current state\n\nWith the capture_context() method a in-memory context is saved, to be retrieved\nlater in the code. The context is also saved to a file for being used also in future\nPyEnSight session.\n\n"
      ]
    },
    {
      "cell_type": "code",
      "execution_count": null,
      "metadata": {
        "collapsed": false
      },
      "outputs": [],
      "source": [
        "init_state = session.capture_context()\ninit_state.save(\"init_state.ctxz\")"
      ]
    },
    {
      "cell_type": "markdown",
      "metadata": {},
      "source": [
        "## Change view direction and restore a in-memory context\n\n<img src=\"file://_static/02_utils_1.png\">\n\n<img src=\"file://_static/02_utils_2.png\">\n\n<img src=\"file://_static/02_utils_1.png\">\n\nAn isometric view along the direction vector (1,1,1) is set, and a new in-memory\ncontext is saved. The view is also saved with the name \"isometric\".\nAll the parts are selected via the select_parts_by_tag() method,\nwhich returns all of them since no tags have been supplied (and also because the dataset\nhasn't got any metadata for the parts). The parts are being hidden, and then the state\nis restored, showing again the isometric view.\n\n"
      ]
    },
    {
      "cell_type": "code",
      "execution_count": null,
      "metadata": {
        "collapsed": false
      },
      "outputs": [],
      "source": [
        "views.set_view_direction(1, 1, 1, name=\"isometric\")\niso_state = session.capture_context()\nsession.show(\"image\", width=800, height=600)\n# Since no tags are supplied, all the parts are selected\nparts.select_parts_by_tag().set_attr(\"VISIBLE\", False)\nsession.show(\"image\", width=800, height=600)\nsession.restore_context(iso_state)\nsession.show(\"image\", width=800, height=600)"
      ]
    },
    {
      "cell_type": "markdown",
      "metadata": {},
      "source": [
        "## Create scoped name for easy use of the ensight submodules to generate a distance query\n\n<img src=\"file://_static/02_utils_3.png\">\n\nPyEnSight supports the generation of context managers for the PyEnSight modules.\nThis can simplify the workflow with the addition of the context manager features in Python.\nA query is so generated along a 1D part generated on the fly. The parent part is selected\nusing the parts module, with the \"select_parts_by_dimension\" module to select all the 3D parts.\nA context is saved for later use. The rendering view should look like this.\n\n"
      ]
    },
    {
      "cell_type": "code",
      "execution_count": null,
      "metadata": {
        "collapsed": false
      },
      "outputs": [],
      "source": [
        "sn = session.ensight.utils.support.scoped_name\nzclip_state = None\nwith sn(session.ensight) as ensight, sn(session.ensight.objs.core) as core:\n    clip_default = core.DEFAULTPARTS[ensight.PART_CLIP_PLANE]\n    clip = clip_default.createpart(name=\"XClip\", sources=parts.select_parts_by_dimension(3))[0]\n    attrs = []\n    attrs.append([\"MESHPLANE\", 2])  # Z axis\n    attrs.append([\"TOOL\", 9])  # XYZ Tool\n    attrs.append([\"VALUE\", 0.55])  # Z value\n    zclip = clip_default.createpart(name=\"ZClip\", sources=clip)[0]\n    query.create_distance(\n        \"zlip_query\", query.DISTANCE_PART1D, [zclip], core.VARIABLES[\"p\"][0], new_plotter=True\n    )\n    zclip_state = session.capture_context()\nsession.show(\"image\", width=800, height=600)"
      ]
    },
    {
      "cell_type": "markdown",
      "metadata": {},
      "source": [
        "## Restore a view\n\n<img src=\"file://_static/02_utils_4.png\">\n\nThe model orientation, position and zoom are changed, then the isometric view is\nrestored. An important difference with the context restore is that the view restore\nrestores the orientation and the position but not the zoom level. Also,\na context restore restored also the objects available at the time of the context save,\nwhile the view can only store position and orientation data. The rendering view should\nlook like this.\n\n"
      ]
    },
    {
      "cell_type": "code",
      "execution_count": null,
      "metadata": {
        "collapsed": false
      },
      "outputs": [],
      "source": [
        "session.ensight.view_transf.rotate(-66.5934067, 1.71428561, 0)\nsession.ensight.view_transf.rotate(18.0219765, -31.6363659, 0)\nsession.ensight.view_transf.rotate(-4.83516455, 9.5064888, 0)\nsession.ensight.view_transf.zoom(0.740957975)\nsession.ensight.view_transf.zoom(0.792766333)\nsession.ensight.view_transf.translate(0.0719177574, 0.0678303316, 0)\nsession.ensight.view_transf.rotate(4.83516455, 3.42857122, 0)\nviews.restore_view(\"isometric\")\nsession.show(\"image\", width=800, height=600)"
      ]
    },
    {
      "cell_type": "markdown",
      "metadata": {},
      "source": [
        "## Create a temporal query\n\n<img src=\"file://_static/02_utils_5.png\">\n\nAfter restoring the distance query context, a temporal query is generated.\nIn particular, the query is applied to a specific XYZ point, querying the\nalpha1 variable. The XYZ point is set to be the model centroid, computed\nvia the views module. The data generated are then printed with this value returned:\n\n"
      ]
    },
    {
      "cell_type": "code",
      "execution_count": null,
      "metadata": {
        "collapsed": false
      },
      "outputs": [],
      "source": [
        "session.restore_context(zclip_state)\ntemp_query = query.create_temporal(\n    \"temporal_query\",\n    query.TEMPORAL_XYZ,\n    parts.select_parts_by_dimension(3),\n    \"alpha1\",\n    xyz=views.compute_model_centroid(),\n)\nprint(temp_query.QUERY_DATA)"
      ]
    },
    {
      "cell_type": "markdown",
      "metadata": {},
      "source": [
        "## Restore a context from disk\n\n<img src=\"file://_static/02_utils_6.png\">\n\nThe following code shows how to restore a context previously saved on disk.\nBy default the PyEnSight context files won't store the location of the dataset,\nso the dataset will have to be loaded in advance before restoring the context.\nThe rendering view should look like this.\n\n"
      ]
    },
    {
      "cell_type": "code",
      "execution_count": null,
      "metadata": {
        "collapsed": false
      },
      "outputs": [],
      "source": [
        "ctx = EnsContext()\nctx.load(\"init_state.ctxz\")\nsession.restore_context(ctx)\nsession.show(\"image\", width=800, height=600)"
      ]
    }
  ],
  "metadata": {
    "kernelspec": {
      "display_name": "Python 3",
      "language": "python",
      "name": "python3"
    },
    "language_info": {
      "codemirror_mode": {
        "name": "ipython",
        "version": 3
      },
      "file_extension": ".py",
      "mimetype": "text/x-python",
      "name": "python",
      "nbconvert_exporter": "python",
      "pygments_lexer": "ipython3",
      "version": "3.9.17"
    }
  },
  "nbformat": 4,
  "nbformat_minor": 0
}
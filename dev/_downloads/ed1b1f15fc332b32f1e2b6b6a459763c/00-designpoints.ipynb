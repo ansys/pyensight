{
  "cells": [
    {
      "cell_type": "code",
      "execution_count": null,
      "metadata": {
        "collapsed": false
      },
      "outputs": [],
      "source": [
        "# PyEnSight example Notebook\n#"
      ]
    },
    {
      "cell_type": "markdown",
      "metadata": {},
      "source": [
        "\n\n# Design Point Comparison\n\nA common operation is to load two different datasets, usually design points,\ninto the same EnSight session using separate cases.  In this example, two Fluent\ndesign points are loaded and displayed in different viewports.  The difference\nbetween the temperature fields is computed and displayed in a third viewport.\n"
      ]
    },
    {
      "cell_type": "markdown",
      "metadata": {},
      "source": [
        "## Start an EnSight session\nStart by launching and connecting to an instance of EnSight.\nIn this case, we use a local installation of EnSight.\n\n"
      ]
    },
    {
      "cell_type": "code",
      "execution_count": null,
      "metadata": {
        "collapsed": false
      },
      "outputs": [],
      "source": [
        "from ansys.pyensight import LocalLauncher\n\nsession = LocalLauncher().start()"
      ]
    },
    {
      "cell_type": "markdown",
      "metadata": {},
      "source": [
        "## Load the data\n\n<img src=\"file://_static/00_compare_0.png\">\n\nHere we use a remote session to load the two datasets into different\ncases.  Note the names of the parts that are loaded, but the parts are\ndisplayed over the top of each other.  This step can take a minute or more\nto download the data.\n\n"
      ]
    },
    {
      "cell_type": "code",
      "execution_count": null,
      "metadata": {
        "collapsed": false
      },
      "outputs": [],
      "source": [
        "session.load_example(\"elbow_dp0_dp1.ens\")\nsession.show(\"image\", width=800, height=600)\nprint([p.PATHNAME for p in session.ensight.objs.core.PARTS])"
      ]
    },
    {
      "cell_type": "markdown",
      "metadata": {},
      "source": [
        "## Create a trio of viewports\n\n<img src=\"file://_static/00_compare_1.png\">\n\nWe will construct a pair of viewports at the top for case 0 and case 1.\nA third viewport, filling the lower half of the window is created for the\ndisplay of the difference field.\n\n"
      ]
    },
    {
      "cell_type": "code",
      "execution_count": null,
      "metadata": {
        "collapsed": false
      },
      "outputs": [],
      "source": [
        "# Create two more viewports (there is always one viewport)\nsession.ensight.objs.core.DEFAULTVPORT[0].createviewport()\nsession.ensight.objs.core.DEFAULTVPORT[0].createviewport()\n# Make these viewports visible and grab references to the viewport objects.\nsession.ensight.objs.core.VPORTS.set_attr(session.ensight.objs.enums.VISIBLE, True)\nvp0 = session.ensight.objs.core.VPORTS[0]\nvp1 = session.ensight.objs.core.VPORTS[1]\nvp2 = session.ensight.objs.core.VPORTS[2]\n# Position the viewports by setting their WIDTH, HEIGHT, ORIGINX and ORIGINY attributes.\nvp0.WIDTH = 0.5\nvp1.WIDTH = 0.5\nvp2.WIDTH = 1.0\nsession.ensight.objs.core.VPORTS.set_attr(session.ensight.objs.enums.HEIGHT, 0.5)\nvp0.ORIGINX = 0.0\nvp0.ORIGINY = 0.5\nvp0.BORDERVISIBLE = True\nvp1.ORIGINX = 0.5\nvp1.ORIGINY = 0.5\nvp2.ORIGINX = 0.0\nvp2.ORIGINY = 0.0\n# Link the transforms of all the viewports to each other\nsession.ensight.objs.core.VPORTS.set_attr(session.ensight.objs.enums.LINKED, True)\n# Hide all but the \"fluid\" parts\nsession.ensight.objs.core.PARTS.set_attr(session.ensight.objs.enums.VISIBLE, False)\nsession.ensight.objs.core.PARTS[\"fluid\"].set_attr(session.ensight.objs.enums.VISIBLE, True)\nsession.ensight.objs.core.PARTS[\"fluid\"].set_attr(\n    session.ensight.objs.enums.ELTREPRESENTATION, session.ensight.objs.enums.BORD_FULL\n)\nsession.show(\"image\", width=800, height=600)"
      ]
    },
    {
      "cell_type": "markdown",
      "metadata": {},
      "source": [
        "## Color and assign parts to specific viewports\n\n<img src=\"file://_static/00_compare_2.png\">\n\nWe color the \"fluid\" parts using the \"Static_Temperature\" variable and\nassign specific parts to specific viewports.\n\nLoading the datasets created fluid parts for both of the loaded cases.\nWe need another part to display the temperature difference variable\nin the lower pane. For this purpose, we use the \"LPART\" (part loader part)\nto create a second instance of the first case \"fluid\" part.  We will\ncompute the difference field on this part to make it easier to display\nall three at the same time.\n\n"
      ]
    },
    {
      "cell_type": "code",
      "execution_count": null,
      "metadata": {
        "collapsed": false
      },
      "outputs": [],
      "source": [
        "fluid0 = session.ensight.objs.core.PARTS[\"fluid\"][0]\nfluid1 = session.ensight.objs.core.PARTS[\"fluid\"][1]\n\n# Using an LPART: we find the ENS_LPART instance in the first case\n# for the part named \"fluid\".  If we load() this object, we get a\n# new instance of the case 0 \"fluid\" mesh.\nfluid0_diff = session.ensight.objs.core.CASES[0].LPARTS.find(\"fluid\")[0].load()\nfluid0_diff.ELTREPRESENTATION = session.ensight.objs.enums.BORD_FULL\n\n# Get the temperature variable and color the fluid parts by it.\ntemperature = session.ensight.objs.core.VARIABLES[\"Static_Temperature\"][0]\nfluid0_diff.COLORBYPALETTE = temperature\nfluid0.COLORBYPALETTE = temperature\nfluid1.COLORBYPALETTE = temperature\n\n# Each of the three parts should only be visible in one viewport.\nfluid0.VIEWPORTVIS = session.ensight.objs.enums.VIEWPORT00\nfluid1.VIEWPORTVIS = session.ensight.objs.enums.VIEWPORT01\nfluid0_diff.VIEWPORTVIS = session.ensight.objs.enums.VIEWPORT02\nsession.show(\"image\", width=800, height=600)"
      ]
    },
    {
      "cell_type": "markdown",
      "metadata": {},
      "source": [
        "## Compute the difference field\n\n<img src=\"file://_static/00_compare_3.png\">\n\nUse the \"CaseMapDiff\" calculator function to compute the different between the\n\"Static_Temperature\" fields between the two design points.  This defines a new\nfield \"Temperature_Difference\" on the \"fluid0_diff\" part.  Color that part\nby the resulting variable.\n\n"
      ]
    },
    {
      "cell_type": "code",
      "execution_count": null,
      "metadata": {
        "collapsed": false
      },
      "outputs": [],
      "source": [
        "temperature_diff = session.ensight.objs.core.create_variable(\n    \"Temperature_Difference\",\n    value=\"CaseMapDiff(plist, 2, Static_Temperature, 0, 1)\",\n    sources=[fluid0_diff],\n)\n\nfluid0_diff.COLORBYPALETTE = temperature_diff\nsession.show(\"image\", width=800, height=600)"
      ]
    },
    {
      "cell_type": "markdown",
      "metadata": {},
      "source": [
        "## Adjust palette range\n\n<img src=\"file://_static/00_compare_4.png\">\n\nTo make the visualization a bit easier to interpret, adjust the palette limits\nto the nearest factor of five.  Further adjustments to rotation, palette location,\netc can be made to improve visual appeal of the imagery.\n\n"
      ]
    },
    {
      "cell_type": "code",
      "execution_count": null,
      "metadata": {
        "collapsed": false
      },
      "outputs": [],
      "source": [
        "limits = [(round(v / 5.0) * 5) for v in temperature_diff.MINMAX]\ntemperature_diff.PALETTE[0].MINMAX = limits\nremote = session.show(\"remote\")"
      ]
    },
    {
      "cell_type": "markdown",
      "metadata": {},
      "source": [
        "## Close the session\nClose the connection and shut down the EnSight instance\n\n"
      ]
    },
    {
      "cell_type": "code",
      "execution_count": null,
      "metadata": {
        "collapsed": false
      },
      "outputs": [],
      "source": [
        "session.close()"
      ]
    }
  ],
  "metadata": {
    "kernelspec": {
      "display_name": "Python 3",
      "language": "python",
      "name": "python3"
    },
    "language_info": {
      "codemirror_mode": {
        "name": "ipython",
        "version": 3
      },
      "file_extension": ".py",
      "mimetype": "text/x-python",
      "name": "python",
      "nbconvert_exporter": "python",
      "pygments_lexer": "ipython3",
      "version": "3.9.17"
    }
  },
  "nbformat": 4,
  "nbformat_minor": 0
}
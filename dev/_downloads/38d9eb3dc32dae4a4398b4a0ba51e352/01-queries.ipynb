{
  "cells": [
    {
      "cell_type": "code",
      "execution_count": null,
      "metadata": {
        "collapsed": false
      },
      "outputs": [],
      "source": [
        "# PyEnSight example Notebook\n#"
      ]
    },
    {
      "cell_type": "markdown",
      "metadata": {},
      "source": [
        "\n\n# Basic EnSight Queries\n\nA query is basically a collection of x,y values.  In addition to the raw\nvalues, each point potentially a location in 3D space and a notion of\n\"gaps\" between values.  In most cases a query is drawn as a line on\nan EnSight plotter object.  It can also be a drawn as points and,\nusing the \"gaps\", a collection of independent line groups.\n\nThe X and Y values can be sampled variable values and the 'X' value\ncan be Time or a Distance along the line tool or a 1D part.  In this\nexample, time and line tool queries are made.  The queries are displayed\non plotter objects and the query values can be manipulated with tools\nlike Numpy.\n"
      ]
    },
    {
      "cell_type": "markdown",
      "metadata": {},
      "source": [
        "## Start an EnSight session\nStart by launching and connecting to an instance of EnSight.\nIn this case, we use a local installation of EnSight.\n\n"
      ]
    },
    {
      "cell_type": "code",
      "execution_count": null,
      "metadata": {
        "collapsed": false
      },
      "outputs": [],
      "source": [
        "import numpy as np\n\nfrom ansys.pyensight import LocalLauncher\n\nsession = LocalLauncher().start()"
      ]
    },
    {
      "cell_type": "markdown",
      "metadata": {},
      "source": [
        "## Load the data\n\n<img src=\"file://_static/01_queries_0.png\">\n\nHere we use a remote session to load a simple time-varying dataset of\nwaterflow over a break.  Load the data and display the 'p' variable\nas well as element lines on the 3D part.\n\n"
      ]
    },
    {
      "cell_type": "code",
      "execution_count": null,
      "metadata": {
        "collapsed": false
      },
      "outputs": [],
      "source": [
        "session.load_example(\"waterbreak.ens\")\n# Get the core part and variable objects\nvar = session.ensight.objs.core.VARIABLES[\"p\"][0]\npart = session.ensight.objs.core.PARTS[\"default_region\"][0]\n# Isolate the 3D part \"default_region\" and display it at\n# solution time 0.7, coloring it by the 'p' variable.\nsession.ensight.objs.core.PARTS.set_attr(\"VISIBLE\", False)\npart.VISIBLE = True\npart.ELTREPRESENTATION = session.ensight.objs.enums.BORD_FULL\npart.COLORBYPALETTE = var\nsession.ensight.objs.core.SOLUTIONTIME = 0.7\nsession.ensight.objs.core.HIDDENLINE_USE_RGB = True\nsession.ensight.objs.core.HIDDENLINE = True\n# Rotate the view a bit\nsession.ensight.view_transf.rotate(-66.5934067, 1.71428561, 0)\nsession.ensight.view_transf.rotate(18.0219765, -31.6363659, 0)\nsession.ensight.view_transf.rotate(-4.83516455, 9.5064888, 0)\nsession.ensight.view_transf.zoom(0.740957975)\nsession.ensight.view_transf.zoom(0.792766333)\nsession.ensight.view_transf.translate(0.0719177574, 0.0678303316, 0)\nsession.ensight.view_transf.rotate(4.83516455, 3.42857122, 0)\n# Display it\nsession.show(\"image\", width=800, height=600)"
      ]
    },
    {
      "cell_type": "markdown",
      "metadata": {},
      "source": [
        "## Create a query using the line tool\n\nCreate a Pressure vs Distance query by sampling a line segment\nusing the 'line_loc()' method to set the endpoints.  This is a\n'generated' query that samples the selected variable on the\nselected part at 20 points over the length of the line segment.\n\n"
      ]
    },
    {
      "cell_type": "code",
      "execution_count": null,
      "metadata": {
        "collapsed": false
      },
      "outputs": [],
      "source": [
        "session.ensight.part.select_begin(part.PARTNUMBER)\nsession.ensight.query_ent_var.begin()\nsession.ensight.query_ent_var.description(\"Pressure vs Distance\")\nsession.ensight.query_ent_var.query_type(\"generated\")\nsession.ensight.query_ent_var.number_of_sample_pts(20)\nsession.ensight.query_ent_var.constrain(\"line_tool\")\nsession.ensight.query_ent_var.line_loc(1, 0.00, 0.075, 0.0)\nsession.ensight.query_ent_var.line_loc(2, 0.58, 0.075, 0.0)\nsession.ensight.query_ent_var.distance(\"arc_length\")\nsession.ensight.query_ent_var.variable_1(var.DESCRIPTION)\nsession.ensight.query_ent_var.generate_over(\"distance\")\nsession.ensight.query_ent_var.variable_2(\"DISTANCE\")\nsession.ensight.query_ent_var.end()\nsession.ensight.query_ent_var.query()\n# This is an interesting trick.  The above code uses the\n# 'native' command bindings.  We would like to be able to\n# use the query object.  EnSight object 'values' are monotonically\n# increasing numbers.  Thus, the 'max()' operation on a list\n# of EnSight objects will return the most recently created one.\nline_query = max(session.ensight.objs.core.QUERIES)\nprint(line_query, line_query.QUERY_DATA[\"xydata\"])"
      ]
    },
    {
      "cell_type": "markdown",
      "metadata": {},
      "source": [
        "## Display the query on a plotter\n\n<img src=\"file://_static/01_queries_1.png\">\n\nQueries can be displayed on a \"plotter\".  The plotter defines a set of axes\nand various display features.  Here, a new plotter is created and the query\nis added to the plotter.  We then override many of the plotter visual features.\nWe set the axes scaling explicitly, create a background grid and tweak the\ndisplay of axis text.\n\n"
      ]
    },
    {
      "cell_type": "code",
      "execution_count": null,
      "metadata": {
        "collapsed": false
      },
      "outputs": [],
      "source": [
        "line_plot = session.ensight.objs.core.defaultplot[0].createplotter()\nline_query.addtoplot(line_plot)\nline_plot.rescale()\nline_plot.PLOTTITLE = f\"{var.DESCRIPTION} vs Distance\"\nline_plot.AXISXTITLE = \"Distance\"\nline_plot.AXISYTITLE = var.DESCRIPTION\nline_plot.LEGENDVISIBLE = False\nline_plot.AXISXAUTOSCALE = False\nline_plot.AXISXMIN = 0.0\nline_plot.AXISXMAX = 0.6\nline_plot.AXISXLABELFORMAT = \"%.2f\"\nline_plot.AXISXGRIDTYPE = 1\nline_plot.AXISYGRIDTYPE = 1\nline_plot.TIMEMARKER = False\nline_plot.AXISYAUTOSCALE = False\nline_plot.AXISYMIN = -200.0\nline_plot.AXISYMAX = 2200.0\nsession.show(\"image\", width=800, height=600)"
      ]
    },
    {
      "cell_type": "markdown",
      "metadata": {},
      "source": [
        "## Query element values over time\n\nEnSight can query specific points, nodes and elements over all timesteps.\nThe result is a query with Time as the X axis.  We select 3 elements at\nstart of break and generate first 3 probes (so the specific sampling points\ncan be seen).  We then generate three queries.  Note that the probes are\nnot strictly needed, they just help make the location of the query more\nobvious.\n\n"
      ]
    },
    {
      "cell_type": "code",
      "execution_count": null,
      "metadata": {
        "collapsed": false
      },
      "outputs": [],
      "source": [
        "elem_ids = [134, 398, 662]\nsession.ensight.part.select_begin(part.PARTNUMBER)\nsession.ensight.query_interact.search(\"exact\")\nsession.ensight.query_interact.query(\"element\")\nsession.ensight.query_interact.number_displayed(3)\n# Create 3 element probes using pre-selected element numbers\nfor id in elem_ids:\n    session.ensight.query_interact.create(id)\n# Make the probe locations a bit more visible\nsession.ensight.objs.core.PROBES[0].LABELALWAYSONTOP = True\n\n# Make three queries.  Again, a generated query but with\n# \"time\" as \"variable 2\" and specific simulation start and\n# end times specified\nsession.ensight.part.select_begin(part.PARTNUMBER)\nelem_queries = []\nfor id in elem_ids:\n    session.ensight.query_ent_var.begin()\n    session.ensight.query_ent_var.description(f\"{id}\")\n    session.ensight.query_ent_var.query_type(\"generated\")\n    session.ensight.query_ent_var.number_of_sample_pts(20)\n    session.ensight.query_ent_var.begin_simtime(0)\n    session.ensight.query_ent_var.end_simtime(1)\n    session.ensight.query_ent_var.constrain(\"element\")\n    session.ensight.query_ent_var.sample_by(\"value\")\n    session.ensight.query_ent_var.variable_1(var.DESCRIPTION)\n    session.ensight.query_ent_var.elem_id(id)\n    session.ensight.query_ent_var.generate_over(\"time\")\n    session.ensight.query_ent_var.variable_2(\"TIME\")\n    session.ensight.query_ent_var.update_with_newtimesteps(\"ON\")\n    session.ensight.query_ent_var.end()\n    session.ensight.query_ent_var.query()\n    # Just like before, grab the query objects.\n    elem_queries.append(max(session.ensight.objs.core.QUERIES))\nprint(elem_queries)"
      ]
    },
    {
      "cell_type": "markdown",
      "metadata": {},
      "source": [
        "## Plot the element queries\n\n<img src=\"file://_static/01_queries_2.png\">\n\nLike before, we create another plotter and then add each query to\nthe new plotter.  Playback the result as an mpeg 4 animation.\n\n"
      ]
    },
    {
      "cell_type": "code",
      "execution_count": null,
      "metadata": {
        "collapsed": false
      },
      "outputs": [],
      "source": [
        "elem_plot = session.ensight.objs.core.defaultplot[0].createplotter(\n    xtitle=\"Time\", ytitle=var.DESCRIPTION\n)\nfor query in elem_queries:\n    query.addtoplot(elem_plot)\nelem_plot.rescale()\nelem_plot.PLOTTITLE = \"Elements vs Time\"\nelem_plot.AXISXLABELFORMAT = \"%.1f\"\nelem_plot.AXISXGRIDTYPE = 1\nelem_plot.AXISYGRIDTYPE = 1\nsession.show(\"animation\", width=800, height=600, fps=5)"
      ]
    },
    {
      "cell_type": "markdown",
      "metadata": {},
      "source": [
        "## Manipulate a query using Numpy\n\n<img src=\"file://_static/01_queries_3.png\">\n\nThe QUERY_DATA attribute provides access to the raw query data.  We use\nit to access the raw data and use the Numpy polynomial curve fitting\nfunctions to approximate the data.  Finally, we create a 'data' query\n(not generated) that we fill in with the newly created query.  As before,\nwe get the query object and add it to the existing plot\n\n"
      ]
    },
    {
      "cell_type": "code",
      "execution_count": null,
      "metadata": {
        "collapsed": false
      },
      "outputs": [],
      "source": [
        "session.ensight.objs.core.SOLUTIONTIME = 0.7\ndata = np.array(line_query.QUERY_DATA[\"xydata\"])\nfit = np.polyfit(data[:, 0], data[:, 1], 6)\nnew_y = np.polyval(fit, data[:, 0])\ndata[:, 1] = new_y\nsession.ensight.query_xy_create(\"curvefit\", \"fit\", \"Distance\", data.tolist())\nfit_query = max(session.ensight.objs.core.QUERIES)\nfit_query.addtoplot(line_plot)\nsession.show(\"remote\")"
      ]
    },
    {
      "cell_type": "markdown",
      "metadata": {},
      "source": [
        "## Close the session\nClose the connection and shut down the EnSight instance\n\n"
      ]
    },
    {
      "cell_type": "code",
      "execution_count": null,
      "metadata": {
        "collapsed": false
      },
      "outputs": [],
      "source": [
        "session.close()"
      ]
    }
  ],
  "metadata": {
    "kernelspec": {
      "display_name": "Python 3",
      "language": "python",
      "name": "python3"
    },
    "language_info": {
      "codemirror_mode": {
        "name": "ipython",
        "version": 3
      },
      "file_extension": ".py",
      "mimetype": "text/x-python",
      "name": "python",
      "nbconvert_exporter": "python",
      "pygments_lexer": "ipython3",
      "version": "3.9.17"
    }
  },
  "nbformat": 4,
  "nbformat_minor": 0
}
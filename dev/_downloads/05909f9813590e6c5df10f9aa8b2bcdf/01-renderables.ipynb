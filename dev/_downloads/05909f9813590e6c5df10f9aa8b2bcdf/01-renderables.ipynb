{
  "cells": [
    {
      "cell_type": "code",
      "execution_count": null,
      "metadata": {
        "collapsed": false
      },
      "outputs": [],
      "source": [
        "# PyEnSight example Notebook\n#"
      ]
    },
    {
      "cell_type": "markdown",
      "metadata": {},
      "source": [
        "\n\n# Introducing Renderables\n\nEnSight is a simulation results post-processing engine with an advanced rendering\nand display component.  PyEnSight provides direct, Jupyter notebook/lab aware\naccess to the rendering component through Renderables.  In this example, the\nvariety of available Renderables is explored.\n"
      ]
    },
    {
      "cell_type": "markdown",
      "metadata": {},
      "source": [
        "## Start an EnSight session\nStart by launching and connecting to an instance of EnSight\nIn this case, we use a local installation of EnSight\n\n"
      ]
    },
    {
      "cell_type": "code",
      "execution_count": null,
      "metadata": {
        "collapsed": false
      },
      "outputs": [],
      "source": [
        "from ansys.pyensight import LocalLauncher\n\nsession = LocalLauncher().start()"
      ]
    },
    {
      "cell_type": "markdown",
      "metadata": {},
      "source": [
        "## Load a time varying dataset\n\nLoad some data included in the EnSight distribution\nand apply a displacement variable to the parts and color\nthem by a measure of plastic deformation.\n\n"
      ]
    },
    {
      "cell_type": "code",
      "execution_count": null,
      "metadata": {
        "collapsed": false
      },
      "outputs": [],
      "source": [
        "session.load_data(f\"{session.cei_home}/ensight{session.cei_suffix}/data/guard_rail/crash.case\")\n# Apply displacements\ndisplacement = session.ensight.objs.core.VARIABLES[\"displacement\"][0]\nsession.ensight.objs.core.PARTS.set_attr(\"DISPLACEBY\", displacement)\n# Color by the variable \"plastic\"\nplastic = session.ensight.objs.core.VARIABLES[\"plastic\"][0]\nsession.ensight.objs.core.PARTS.set_attr(\"COLORBYPALETTE\", plastic)\n# Adjust the palette range\nplastic.LEGEND[0].RANGE = [0.0, 0.007]\nsession.ensight.view_transf.rotate(-36.0, 23.0, 0.0)\nsession.ensight.view_transf.fit(0)"
      ]
    },
    {
      "cell_type": "markdown",
      "metadata": {},
      "source": [
        "## Basic image\n\n<img src=\"file://_static/01_renderable_0.png\">\n\nGet an image renderable.  If this is being run in a Jupyter IDE, the cell will\ndisplay the png image.   The image will be rendered at 800x600 pixels using 4\nantialiasing passes.\n\n"
      ]
    },
    {
      "cell_type": "code",
      "execution_count": null,
      "metadata": {
        "collapsed": false
      },
      "outputs": [],
      "source": [
        "image = session.show(\"image\", width=800, height=600, aa=4)"
      ]
    },
    {
      "cell_type": "markdown",
      "metadata": {},
      "source": [
        "### Renderable.update()\n\nRenderables include several useful methods.  The first is 'update()'.  Update\nwill re-generate the renderable.  Adjust the scene rotation and update the\nscene to update the display.\n\n"
      ]
    },
    {
      "cell_type": "code",
      "execution_count": null,
      "metadata": {
        "collapsed": false
      },
      "outputs": [],
      "source": [
        "session.ensight.view_transf.rotate(10.0, 0.0, 0.0)\nimage.update()"
      ]
    },
    {
      "cell_type": "markdown",
      "metadata": {},
      "source": [
        "### Renderable.browser()\n\nAll renderables display their results in web pages. The url to the web page\nis stored in the renderable url property and the \"browser()\" method can be\ncalled to display the result in a new browser tab.\n\n"
      ]
    },
    {
      "cell_type": "code",
      "execution_count": null,
      "metadata": {
        "collapsed": false
      },
      "outputs": [],
      "source": [
        "print(image.url)\nimage.browser()"
      ]
    },
    {
      "cell_type": "markdown",
      "metadata": {},
      "source": [
        "### Renderable.download()\n\nThe physical files that make up the renderable display reside in the\ncontainer/system running the EnSight instance.  They can be downloaded\nto the local system using the download() method.  Note: for an \"image\"\nrenderable, this is a png file, but it could be a tif, avz, evsn or other\nformat file, depending on the type of the renderable.\n\n"
      ]
    },
    {
      "cell_type": "code",
      "execution_count": null,
      "metadata": {
        "collapsed": false
      },
      "outputs": [],
      "source": [
        "local_directory_pathname = \".\"\nimage.download(local_directory_pathname)"
      ]
    },
    {
      "cell_type": "markdown",
      "metadata": {},
      "source": [
        "## Deep pixel image\n\n<img src=\"file://_static/01_renderable_1.png\">\n\nGet a deep pixel image renderable.  A deep pixel image is a tiff format\nimage that has the part names and currently displayed variable values\nincluded at each pixel.  For full effect, it needs to be viewed in a\nweb page.\n\n"
      ]
    },
    {
      "cell_type": "code",
      "execution_count": null,
      "metadata": {
        "collapsed": false
      },
      "outputs": [],
      "source": [
        "deep_image = session.show(\"deep_pixel\", width=800, height=600, aa=4)"
      ]
    },
    {
      "cell_type": "markdown",
      "metadata": {},
      "source": [
        "## Mpeg4 animations\n\n<img src=\"file://_static/01_renderable_2.png\">\n\nCreate an animation renderable. This renderable is generated by rendering\nall the timesteps of the currently loaded dataset into an mpeg4 container.\nThe size of the animation and the playback rate in frames/second may be\nspecified in the show() call.\n\n"
      ]
    },
    {
      "cell_type": "code",
      "execution_count": null,
      "metadata": {
        "collapsed": false
      },
      "outputs": [],
      "source": [
        "animation = session.show(\"animation\", width=800, height=600, aa=2, fps=2.0)"
      ]
    },
    {
      "cell_type": "markdown",
      "metadata": {},
      "source": [
        "## WebGL 3D scene\n\n<img src=\"file://_static/01_renderable_3.png\">\n\nCreate an 3D scene renderable and render it interactively in the web browser.\nThe scene is generated in avz format, which is what the download() method\nwould pull. By default, only the current timestep is captured, but if\nthe temporal keyword is set, it can be over all timesteps.  Note: the\ngeometry is generated in the EnSight session and downloaded to the browser\nfor display, so care should be taken when using this method with larger\ndatasets.\n\n"
      ]
    },
    {
      "cell_type": "code",
      "execution_count": null,
      "metadata": {
        "collapsed": false
      },
      "outputs": [],
      "source": [
        "webgl = session.show(\"webgl\")"
      ]
    },
    {
      "cell_type": "markdown",
      "metadata": {},
      "source": [
        "## Direct interaction with EnSight\n\n<img src=\"file://_static/01_renderable_4.png\">\n\nUse remote rendering with dynamic pixel transport to interact directly with\nthe EnSight session.  The keyboard and mouse interactions are sent directly\nto EnSight in this mode. Note: this renderable relies on a persistent, low\nlatency web socket connection to the EnSight session.  It is most useful\nwhen the EnSight session container has access to hardware accelerated\nrendering and when datasets/geometry get larger.  Multiple connections\ncan be made to the same renderable (via HTTP).  Those renderables are\n\"shared\" between all the viewers.\n\n"
      ]
    },
    {
      "cell_type": "code",
      "execution_count": null,
      "metadata": {
        "collapsed": false
      },
      "outputs": [],
      "source": [
        "remote = session.show(\"remote\")"
      ]
    },
    {
      "cell_type": "markdown",
      "metadata": {},
      "source": [
        "## Direct interaction with saved scene\n\n<img src=\"file://_static/01_renderable_5.png\">\n\nThis renderable is basically a wrapper around an EnSight scenario file.\nThe current scene is exported and includes all active parts/variables.  The\nviewer is the EnVision application accessed through the same remote rendering\nsystem as the \"remote\" renderable.  It shares many of the same benefits as\nthe remote renderable, without the overhead of an EnSight server process.\nIf downloaded, the saved file will be an EnVision evsn file.\n\n"
      ]
    },
    {
      "cell_type": "code",
      "execution_count": null,
      "metadata": {
        "collapsed": false
      },
      "outputs": [],
      "source": [
        "remote_scene = session.show(\"remote_scene\", width=800, height=600, temporal=True)"
      ]
    },
    {
      "cell_type": "markdown",
      "metadata": {},
      "source": [
        "## Exporting raw content\n\nThe render() and geometry() Session methods are capable of returning the\nraw file data directly, without the use of a web browser.  Included here\nare examples for a png image and a glTF glb file.\n\n"
      ]
    },
    {
      "cell_type": "code",
      "execution_count": null,
      "metadata": {
        "collapsed": false
      },
      "outputs": [],
      "source": [
        "pngdata = session.render(1920, 1080, aa=4)\nwith open(\"simple_example.png\", \"wb\") as fp:\n    fp.write(pngdata)\nglbdata = session.geometry()\nwith open(\"simple_example.glb\", \"wb\") as fp:\n    fp.write(glbdata)"
      ]
    },
    {
      "cell_type": "markdown",
      "metadata": {},
      "source": [
        "## Close the session\nClose the connection and shut down the EnSight instance\n\n"
      ]
    },
    {
      "cell_type": "code",
      "execution_count": null,
      "metadata": {
        "collapsed": false
      },
      "outputs": [],
      "source": [
        "session.close()"
      ]
    }
  ],
  "metadata": {
    "kernelspec": {
      "display_name": "Python 3",
      "language": "python",
      "name": "python3"
    },
    "language_info": {
      "codemirror_mode": {
        "name": "ipython",
        "version": 3
      },
      "file_extension": ".py",
      "mimetype": "text/x-python",
      "name": "python",
      "nbconvert_exporter": "python",
      "pygments_lexer": "ipython3",
      "version": "3.9.17"
    }
  },
  "nbformat": 4,
  "nbformat_minor": 0
}
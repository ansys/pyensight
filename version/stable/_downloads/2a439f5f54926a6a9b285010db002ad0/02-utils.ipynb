{
  "cells": [
    {
      "cell_type": "code",
      "execution_count": null,
      "metadata": {
        "collapsed": false
      },
      "outputs": [],
      "source": [
        "# PyEnSight example Notebook\n#"
      ]
    },
    {
      "cell_type": "markdown",
      "metadata": {},
      "source": [
        "\n\n# EnSight Utilities\nThe PyEnSight ``utils`` modules have been designed to expose standard\npostprocessing operations via simplified APIs. This example shows how to\nuse the ``utils`` to easily perform specific operations.\n"
      ]
    },
    {
      "cell_type": "markdown",
      "metadata": {},
      "source": [
        "## Start an EnSight session\nLaunch and connect to an instance of EnSight.\nThis example uses a local EnSight installation.\n\n"
      ]
    },
    {
      "cell_type": "code",
      "execution_count": null,
      "metadata": {
        "collapsed": false
      },
      "outputs": [],
      "source": [
        "from ansys.pyensight.core import LocalLauncher\nfrom ansys.pyensight.core.enscontext import EnsContext\n\nsession = LocalLauncher().start()"
      ]
    },
    {
      "cell_type": "markdown",
      "metadata": {},
      "source": [
        "## Load the data\nUse a remote session to load a simple time-varying dataset of\nwaterflow over a break.\n\n<img src=\"file://_static/02_utils_0.png\">\n\n"
      ]
    },
    {
      "cell_type": "code",
      "execution_count": null,
      "metadata": {
        "collapsed": false
      },
      "outputs": [],
      "source": [
        "session.load_example(\"waterbreak.ens\")\nsession.show(\"image\", width=800, height=600)"
      ]
    },
    {
      "cell_type": "markdown",
      "metadata": {},
      "source": [
        "## Load the ``utils`` modules\n\nThe ``utils`` modules are available as instances of ``ensight.utils``. To\nprovide a simple use case, this example casts them into new variables\nwith the same names.\n\n"
      ]
    },
    {
      "cell_type": "code",
      "execution_count": null,
      "metadata": {
        "collapsed": false
      },
      "outputs": [],
      "source": [
        "parts = session.ensight.utils.parts\nviews = session.ensight.utils.views\nquery = session.ensight.utils.query"
      ]
    },
    {
      "cell_type": "markdown",
      "metadata": {},
      "source": [
        "## Capture a context of the current state\nUse the :func:`capture_context<ansys.pyensight.core.Session.capture_context>`\nmethod to save an in-memory context, which is retrieved later in this example.\nAlso save the context to a file for use in a future PyEnSight session.\n\n"
      ]
    },
    {
      "cell_type": "code",
      "execution_count": null,
      "metadata": {
        "collapsed": false
      },
      "outputs": [],
      "source": [
        "init_state = session.capture_context()\ninit_state.save(\"init_state.ctxz\")"
      ]
    },
    {
      "cell_type": "markdown",
      "metadata": {},
      "source": [
        "## Change view direction and restore an in-memory context\nSave an isometric view along the direction vector (1,1,1) and a new in-memory\ncontext. Save the view, naming it ``isometric``. Use the\n:func:`select_parts_by_tag<ansys.pyensight.core.utils.parts.Parts.select_parts_by_tag>`\nmethod to select all parts. (All parts are returned because no tags have been supplied\nand because the dataset has no metadata for the parts).\n\nWhen no tags are supplied, all parts are selected.\n\n<img src=\"file://_static/02_utils_1.png\">\n\nAll parts are hidden.\n\n<img src=\"file://_static/02_utils_2.png\">\n\nRestore the state, showing the isometric view once again.\n\n<img src=\"file://_static/02_utils_1.png\">\n\n"
      ]
    },
    {
      "cell_type": "code",
      "execution_count": null,
      "metadata": {
        "collapsed": false
      },
      "outputs": [],
      "source": [
        "views.set_view_direction(1, 1, 1, name=\"isometric\")\niso_state = session.capture_context()\nsession.show(\"image\", width=800, height=600)\n# Because no tags are supplied, all parts are selected\n\n# Hide the parts.\nparts.select_parts_by_tag().set_attr(\"VISIBLE\", False)\n\n# Restore the state, showing the isometric view once again.\n\nsession.show(\"image\", width=800, height=600)\nsession.restore_context(iso_state)\nsession.show(\"image\", width=800, height=600)"
      ]
    },
    {
      "cell_type": "markdown",
      "metadata": {},
      "source": [
        "## Create scoped name\nA scoped name provides for easily using EnSight submodules to generate\ndistance queries. PyEnSight supports the generation of context managers for\nthe PyEnSight modules. Its context manager features, along with the context\nmanager features in Python, can simplify the workflow.\n\nThis code generates a query along a 1D part on the fly. It uses the ``Parts`` class to\nselect the parent part and the\n:func:`select_parts_by_dimension<ansys.pyensight.core.utils.parts.Parts.select_parts_by_dimension>`\nmethod to select all 3D parts. Lastly, it saves a context for later use.\n\nThe rendering view should look like this:\n\n<img src=\"file://_static/02_utils_3.png\">\n\n"
      ]
    },
    {
      "cell_type": "code",
      "execution_count": null,
      "metadata": {
        "collapsed": false
      },
      "outputs": [],
      "source": [
        "sn = session.ensight.utils.support.scoped_name\nzclip_state = None\nwith sn(session.ensight) as ensight, sn(session.ensight.objs.core) as core:\n    clip_default = core.DEFAULTPARTS[ensight.PART_CLIP_PLANE]\n    clip = clip_default.createpart(name=\"XClip\", sources=parts.select_parts_by_dimension(3))[0]\n    attrs = []\n    attrs.append([\"MESHPLANE\", 2])  # Z axis\n    attrs.append([\"TOOL\", 9])  # XYZ Tool\n    attrs.append([\"VALUE\", 0.55])  # Z value\n    zclip = clip_default.createpart(name=\"ZClip\", sources=clip)[0]\n    query.create_distance(\n        \"zlip_query\", query.DISTANCE_PART1D, [zclip], core.VARIABLES[\"p\"][0], new_plotter=True\n    )\n    zclip_state = session.capture_context()\nsession.show(\"image\", width=800, height=600)"
      ]
    },
    {
      "cell_type": "markdown",
      "metadata": {},
      "source": [
        "## Restore a view\nThis code chances the model orientation, position, and zoom. It then restores\nthe isometric view. While restoring a context restores the orientation,\nposition, zoom level, and the objects available at the time that the context\nwas saved, restoring a view only restores the orientation and\nposition.\n\nThe rendering view should look like this:\n\n<img src=\"file://_static/02_utils_4.png\">\n\n"
      ]
    },
    {
      "cell_type": "code",
      "execution_count": null,
      "metadata": {
        "collapsed": false
      },
      "outputs": [],
      "source": [
        "session.ensight.view_transf.rotate(-66.5934067, 1.71428561, 0)\nsession.ensight.view_transf.rotate(18.0219765, -31.6363659, 0)\nsession.ensight.view_transf.rotate(-4.83516455, 9.5064888, 0)\nsession.ensight.view_transf.zoom(0.740957975)\nsession.ensight.view_transf.zoom(0.792766333)\nsession.ensight.view_transf.translate(0.0719177574, 0.0678303316, 0)\nsession.ensight.view_transf.rotate(4.83516455, 3.42857122, 0)\nviews.restore_view(\"isometric\")\nsession.show(\"image\", width=800, height=600)"
      ]
    },
    {
      "cell_type": "markdown",
      "metadata": {},
      "source": [
        "## Create a temporal query\nThis code restores the distance query context and then generates a temporal\nquery. This query is applied to a specific XYZ point, querying the\n``\"alpha1\"`` variable. The XYZ point is set to the model centroid and computed\nvia the ``Views`` class. The data generated is then printed.\n\nThe value returned should look like this:\n\n<img src=\"file://_static/02_utils_5.png\">\n\n"
      ]
    },
    {
      "cell_type": "code",
      "execution_count": null,
      "metadata": {
        "collapsed": false
      },
      "outputs": [],
      "source": [
        "session.restore_context(zclip_state)\ntemp_query = query.create_temporal(\n    \"temporal_query\",\n    query.TEMPORAL_XYZ,\n    parts.select_parts_by_dimension(3),\n    \"alpha1\",\n    xyz=views.compute_model_centroid(),\n)\nprint(temp_query.QUERY_DATA)"
      ]
    },
    {
      "cell_type": "markdown",
      "metadata": {},
      "source": [
        "## Restore a context from disk\nThis code shows how to restore a context previously saved on disk.\nBecause PyEnSight context files do not store the location of the dataset by\ndefault, you must load the dataset before restoring the context.\n\nThe rendering view should look like this.\n\n<img src=\"file://_static/02_utils_6.png\">\n\n"
      ]
    },
    {
      "cell_type": "code",
      "execution_count": null,
      "metadata": {
        "collapsed": false
      },
      "outputs": [],
      "source": [
        "ctx = EnsContext()\nctx.load(\"init_state.ctxz\")\nsession.restore_context(ctx)\nsession.show(\"image\", width=800, height=600)"
      ]
    }
  ],
  "metadata": {
    "kernelspec": {
      "display_name": "Python 3",
      "language": "python",
      "name": "python3"
    },
    "language_info": {
      "codemirror_mode": {
        "name": "ipython",
        "version": 3
      },
      "file_extension": ".py",
      "mimetype": "text/x-python",
      "name": "python",
      "nbconvert_exporter": "python",
      "pygments_lexer": "ipython3",
      "version": "3.10.12"
    }
  },
  "nbformat": 4,
  "nbformat_minor": 0
}
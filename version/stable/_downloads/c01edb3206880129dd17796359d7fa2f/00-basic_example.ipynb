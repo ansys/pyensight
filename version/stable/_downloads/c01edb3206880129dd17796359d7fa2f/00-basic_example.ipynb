{
  "cells": [
    {
      "cell_type": "code",
      "execution_count": null,
      "metadata": {
        "collapsed": false
      },
      "outputs": [],
      "source": [
        "# PyEnSight example Notebook\n#"
      ]
    },
    {
      "cell_type": "markdown",
      "metadata": {},
      "source": [
        "\n\n# Basic usage\n\nThis most basic EnSight processing example loads some data\nfrom an EnSight installation and generates a simplistic scene.\n"
      ]
    },
    {
      "cell_type": "markdown",
      "metadata": {},
      "source": [
        "## Start an EnSight session\nLaunch and connect to an instance of EnSight.\nThis example uses a local EnSight installation.\n\n"
      ]
    },
    {
      "cell_type": "code",
      "execution_count": null,
      "metadata": {
        "collapsed": false
      },
      "outputs": [],
      "source": [
        "from ansys.pyensight.core import LocalLauncher\n\nsession = LocalLauncher().start()\ncore = session.ensight.objs.core"
      ]
    },
    {
      "cell_type": "markdown",
      "metadata": {},
      "source": [
        "## Load a dataset\nLoad some data included in the EnSight installation and set up\na slightly rotated view (30 degrees over the X and Y axes).\n\n<img src=\"file://_static/00_basic_0.png\">\n\n"
      ]
    },
    {
      "cell_type": "code",
      "execution_count": null,
      "metadata": {
        "collapsed": false
      },
      "outputs": [],
      "source": [
        "session.load_data(f\"{session.cei_home}/ensight{session.cei_suffix}/data/cube/cube.case\")\nsession.ensight.view_transf.rotate(30, 30, 0)\nsession.show(\"image\", width=800, height=600)"
      ]
    },
    {
      "cell_type": "markdown",
      "metadata": {},
      "source": [
        "## Create a clip plane\nCreate a clip through the volumetric parts.\n\n<img src=\"file://_static/00_basic_1.png\">\n\n"
      ]
    },
    {
      "cell_type": "code",
      "execution_count": null,
      "metadata": {
        "collapsed": false
      },
      "outputs": [],
      "source": [
        "clip_default = core.DEFAULTPARTS[session.ensight.PART_CLIP_PLANE]\nparent_parts = core.PARTS\nclip = clip_default.createpart(name=\"Clip\", sources=parent_parts)[0]\nsession.show(\"image\", width=800, height=600)\nprint(\"Parts:\", core.PARTS)\n\n\n# .. note::\n#    There is an issue with the version of PyEnSight that ships with EnSight\n#    2023 R1. The ``core.DEFAULTPARTS`` attribute may fail with an error\n#    message like this: :samp:`\"AttributeError: 'objs' object has no attribute 'ENS_PART_BUILTUP'\"`.\n#    A workaround, other than updating the PyEnSight installation, is to use the\n#    :func:`cmd<ansys.pyensight.core.Session.cmd>` method:\n#\nclip_default = session.cmd(\"ensight.objs.core.DEFAULTPARTS[ensight.PART_CLIP_PLANE]\")"
      ]
    },
    {
      "cell_type": "markdown",
      "metadata": {},
      "source": [
        "## Color the clip plane\nColor the clip plane using the temperature variable.\n\n<img src=\"file://_static/00_basic_2.png\">\n\n"
      ]
    },
    {
      "cell_type": "code",
      "execution_count": null,
      "metadata": {
        "collapsed": false
      },
      "outputs": [],
      "source": [
        "clip.COLORBYPALETTE = core.VARIABLES[\"temperature\"][0]\nsession.show(\"image\", width=800, height=600)\nprint(\"Variables:\", core.VARIABLES)"
      ]
    },
    {
      "cell_type": "markdown",
      "metadata": {},
      "source": [
        "## Change the visual representation\nChange the visual representation a bit as follows:\n\n#. Display the volume part in border mode instead of feature mode.\n#. Make the volume part transparent so the clip is still visible.\n#. Enable element edge display, outlining elements in black lines.\n\n<img src=\"file://_static/00_basic_3.png\">\n\n"
      ]
    },
    {
      "cell_type": "code",
      "execution_count": null,
      "metadata": {
        "collapsed": false
      },
      "outputs": [],
      "source": [
        "core.PARTS.set_attr(\"ELTREPRESENTATION\", session.ensight.objs.enums.BORD_FULL)\ncore.PARTS[0].OPAQUENESS = 0.1\nd = dict(HIDDENLINE=True, HIDDENLINE_USE_RGB=True, HIDDENLINE_RGB=[0, 0, 0])\ncore.setattrs(d)\nsession.show(\"image\", width=800, height=600)"
      ]
    },
    {
      "cell_type": "markdown",
      "metadata": {},
      "source": [
        "## Create an annotation\nCreate a text annotation and place it near the top of the viewport in the\ncenter.\n\n<img src=\"file://_static/00_basic_4.png\">\n\n"
      ]
    },
    {
      "cell_type": "code",
      "execution_count": null,
      "metadata": {
        "collapsed": false
      },
      "outputs": [],
      "source": [
        "text = core.DEFAULTANNOTS[session.ensight.ANNOT_TEXT].createannot(\"Temperature Clip\")\ntext.setattrs(dict(LOCATIONX=0.5, LOCATIONY=0.95))\nsession.show(\"image\", width=800, height=600)"
      ]
    },
    {
      "cell_type": "markdown",
      "metadata": {},
      "source": [
        "## Export content\nSave the current image and a GLB file of the scene to disk.\n\n"
      ]
    },
    {
      "cell_type": "code",
      "execution_count": null,
      "metadata": {
        "collapsed": false
      },
      "outputs": [],
      "source": [
        "pngdata = session.render(1920, 1080, aa=4)\nwith open(\"simple_example.png\", \"wb\") as fp:\n    fp.write(pngdata)\nglbdata = session.geometry()\nwith open(\"simple_example.glb\", \"wb\") as fp:\n    fp.write(glbdata)"
      ]
    },
    {
      "cell_type": "markdown",
      "metadata": {},
      "source": [
        "## Enable direct interaction\nOpen an embedded EnSight window in a browser frame.\n\n"
      ]
    },
    {
      "cell_type": "code",
      "execution_count": null,
      "metadata": {
        "collapsed": false
      },
      "outputs": [],
      "source": [
        "session.show(\"remote\")"
      ]
    },
    {
      "cell_type": "markdown",
      "metadata": {},
      "source": [
        "## Close the session\nClose the connection and shut down the EnSight instance.\n\n"
      ]
    },
    {
      "cell_type": "code",
      "execution_count": null,
      "metadata": {
        "collapsed": false
      },
      "outputs": [],
      "source": [
        "session.close()"
      ]
    }
  ],
  "metadata": {
    "kernelspec": {
      "display_name": "Python 3",
      "language": "python",
      "name": "python3"
    },
    "language_info": {
      "codemirror_mode": {
        "name": "ipython",
        "version": 3
      },
      "file_extension": ".py",
      "mimetype": "text/x-python",
      "name": "python",
      "nbconvert_exporter": "python",
      "pygments_lexer": "ipython3",
      "version": "3.10.12"
    }
  },
  "nbformat": 4,
  "nbformat_minor": 0
}
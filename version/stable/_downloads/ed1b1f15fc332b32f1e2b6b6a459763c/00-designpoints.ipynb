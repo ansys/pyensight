{
  "cells": [
    {
      "cell_type": "code",
      "execution_count": null,
      "metadata": {
        "collapsed": false
      },
      "outputs": [],
      "source": [
        "# PyEnSight example Notebook\n#"
      ]
    },
    {
      "cell_type": "markdown",
      "metadata": {},
      "source": [
        "\n\n# Design point comparison\n\nA common operation is to load two different datasets, usually design points,\ninto the same EnSight session using separate cases. This example loads two Fluent\ndesign points and displays them in different viewports. It then computes the difference\nbetween the temperature fields and displays the result in a third viewport.\n"
      ]
    },
    {
      "cell_type": "markdown",
      "metadata": {},
      "source": [
        "## Start an EnSight session\nLaunch and connect to an instance of EnSight.\nThis example uses a local EnSight installation.\n\n"
      ]
    },
    {
      "cell_type": "code",
      "execution_count": null,
      "metadata": {
        "collapsed": false
      },
      "outputs": [],
      "source": [
        "from ansys.pyensight.core import LocalLauncher\n\nsession = LocalLauncher().start()"
      ]
    },
    {
      "cell_type": "markdown",
      "metadata": {},
      "source": [
        "## Load the data\nUse a remote session to load the two datasets into different cases.\nDownloading the data can take a minute or more. Note the names of the parts\nthat are loaded. The parts are shown on top of each other.\n\n<img src=\"file://_static/00_compare_0.png\">\n\n"
      ]
    },
    {
      "cell_type": "code",
      "execution_count": null,
      "metadata": {
        "collapsed": false
      },
      "outputs": [],
      "source": [
        "session.load_example(\"elbow_dp0_dp1.ens\")\nsession.show(\"image\", width=800, height=600)\nprint([p.PATHNAME for p in session.ensight.objs.core.PARTS])"
      ]
    },
    {
      "cell_type": "markdown",
      "metadata": {},
      "source": [
        "## Create a trio of viewports\nThis code constructs a pair of viewports at the top for case 0 and case 1.\nIt then creates a third viewport, which fill the lower half of the window,\nfor the difference field.\n\n<img src=\"file://_static/00_compare_1.png\">\n\n"
      ]
    },
    {
      "cell_type": "code",
      "execution_count": null,
      "metadata": {
        "collapsed": false
      },
      "outputs": [],
      "source": [
        "# Create two more viewports. (There is always one viewport.)\nsession.ensight.objs.core.DEFAULTVPORT[0].createviewport()\nsession.ensight.objs.core.DEFAULTVPORT[0].createviewport()\n# Make these viewports visible and grab references to the viewport objects.\nsession.ensight.objs.core.VPORTS.set_attr(session.ensight.objs.enums.VISIBLE, True)\nvp0 = session.ensight.objs.core.VPORTS[0]\nvp1 = session.ensight.objs.core.VPORTS[1]\nvp2 = session.ensight.objs.core.VPORTS[2]\n# Position the viewports by setting their WIDTH, HEIGHT, ORIGINX, and ORIGINY attributes.\nvp0.WIDTH = 0.5\nvp1.WIDTH = 0.5\nvp2.WIDTH = 1.0\nsession.ensight.objs.core.VPORTS.set_attr(session.ensight.objs.enums.HEIGHT, 0.5)\nvp0.ORIGINX = 0.0\nvp0.ORIGINY = 0.5\nvp0.BORDERVISIBLE = True\nvp1.ORIGINX = 0.5\nvp1.ORIGINY = 0.5\nvp2.ORIGINX = 0.0\nvp2.ORIGINY = 0.0\n# Link the transforms of all the viewports to each other.\nsession.ensight.objs.core.VPORTS.set_attr(session.ensight.objs.enums.LINKED, True)\n# Hide all but the \"fluid\" parts\nsession.ensight.objs.core.PARTS.set_attr(session.ensight.objs.enums.VISIBLE, False)\nsession.ensight.objs.core.PARTS[\"fluid\"].set_attr(session.ensight.objs.enums.VISIBLE, True)\nsession.ensight.objs.core.PARTS[\"fluid\"].set_attr(\n    session.ensight.objs.enums.ELTREPRESENTATION, session.ensight.objs.enums.BORD_FULL\n)\nsession.show(\"image\", width=800, height=600)"
      ]
    },
    {
      "cell_type": "markdown",
      "metadata": {},
      "source": [
        "## Color and assign parts to specific viewports\nThis code colors the \"fluid\" parts using the ``Static_Temperature`` variable\nand assigns specific parts to specific viewports. It then loads the\ndataset-created fluid parts for both loaded cases.\n\nBecause another part is needed to display the temperature difference variable\nin the lower pane, the code uses the ``LPART`` (part loader part) to create a\nsecond instance of the fluid part in the first case. The code then computes\nthe difference field on this part to make it easier to display all three\nat the same time.\n\n<img src=\"file://_static/00_compare_2.png\">\n\n"
      ]
    },
    {
      "cell_type": "code",
      "execution_count": null,
      "metadata": {
        "collapsed": false
      },
      "outputs": [],
      "source": [
        "fluid0 = session.ensight.objs.core.PARTS[\"fluid\"][0]\nfluid1 = session.ensight.objs.core.PARTS[\"fluid\"][1]\n\n# Using ``LPART``, find the ``ENS_LPART`` instance in the first case\n# for the part named \"fluid\".  Load this object to get a\n# new instance of the case 0 \"fluid\" mesh.\nfluid0_diff = session.ensight.objs.core.CASES[0].LPARTS.find(\"fluid\")[0].load()\nfluid0_diff.ELTREPRESENTATION = session.ensight.objs.enums.BORD_FULL\n\n# Get the temperature variable and color the fluid parts by it.\ntemperature = session.ensight.objs.core.VARIABLES[\"Static_Temperature\"][0]\nfluid0_diff.COLORBYPALETTE = temperature\nfluid0.COLORBYPALETTE = temperature\nfluid1.COLORBYPALETTE = temperature\n\n# Each of the three parts should only be visible in one viewport.\nfluid0.VIEWPORTVIS = session.ensight.objs.enums.VIEWPORT00\nfluid1.VIEWPORTVIS = session.ensight.objs.enums.VIEWPORT01\nfluid0_diff.VIEWPORTVIS = session.ensight.objs.enums.VIEWPORT02\nsession.show(\"image\", width=800, height=600)"
      ]
    },
    {
      "cell_type": "markdown",
      "metadata": {},
      "source": [
        "## Compute difference field\nUse the ``CaseMapDiff`` calculator function to compute the difference between the\n``Static_Temperature`` fields between the two design points. This defines a new\nfield, ``Temperature_Difference``, on the ``fluid0_diff`` part. Color that part\nby the resulting variable.\n\n<img src=\"file://_static/00_compare_3.png\">\n\n"
      ]
    },
    {
      "cell_type": "code",
      "execution_count": null,
      "metadata": {
        "collapsed": false
      },
      "outputs": [],
      "source": [
        "temperature_diff = session.ensight.objs.core.create_variable(\n    \"Temperature_Difference\",\n    value=\"CaseMapDiff(plist, 2, Static_Temperature, 0, 1)\",\n    sources=[fluid0_diff],\n)\n\nfluid0_diff.COLORBYPALETTE = temperature_diff\nsession.show(\"image\", width=800, height=600)"
      ]
    },
    {
      "cell_type": "markdown",
      "metadata": {},
      "source": [
        "## Adjust palette limits\nTo make the visualization a bit easier to interpret, adjust the palette limits\nto the nearest factor of five. To improve visual appeal of the imagery, you could\nmake also make adjustments to rotation, palette location, and more.\n\n<img src=\"file://_static/00_compare_4.png\">\n\n"
      ]
    },
    {
      "cell_type": "code",
      "execution_count": null,
      "metadata": {
        "collapsed": false
      },
      "outputs": [],
      "source": [
        "limits = [(round(v / 5.0) * 5) for v in temperature_diff.MINMAX]\ntemperature_diff.PALETTE[0].MINMAX = limits\nremote = session.show(\"remote\")"
      ]
    },
    {
      "cell_type": "markdown",
      "metadata": {},
      "source": [
        "## Close the session\nClose the connection and shut down the EnSight instance.\n\n"
      ]
    },
    {
      "cell_type": "code",
      "execution_count": null,
      "metadata": {
        "collapsed": false
      },
      "outputs": [],
      "source": [
        "session.close()"
      ]
    }
  ],
  "metadata": {
    "kernelspec": {
      "display_name": "Python 3",
      "language": "python",
      "name": "python3"
    },
    "language_info": {
      "codemirror_mode": {
        "name": "ipython",
        "version": 3
      },
      "file_extension": ".py",
      "mimetype": "text/x-python",
      "name": "python",
      "nbconvert_exporter": "python",
      "pygments_lexer": "ipython3",
      "version": "3.10.12"
    }
  },
  "nbformat": 4,
  "nbformat_minor": 0
}
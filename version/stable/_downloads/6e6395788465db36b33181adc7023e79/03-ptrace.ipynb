{
  "cells": [
    {
      "cell_type": "code",
      "execution_count": null,
      "metadata": {
        "collapsed": false
      },
      "outputs": [],
      "source": [
        "# PyEnSight example Notebook\n#"
      ]
    },
    {
      "cell_type": "markdown",
      "metadata": {},
      "source": [
        "\n\n# Particle Trace (Streamline/Pathline) usage\n\nUtilize EnSight Particle Trace (aka Streamline/Pathline) to visualize a\nvector through the domain.\nCreate Streamline, animate, allow for dynamic change.\n"
      ]
    },
    {
      "cell_type": "markdown",
      "metadata": {},
      "source": [
        "## Start an EnSight session\nLaunch and connect to an instance of EnSight.\nThis example uses a local EnSight installation.\n\n"
      ]
    },
    {
      "cell_type": "code",
      "execution_count": null,
      "metadata": {
        "collapsed": false
      },
      "outputs": [],
      "source": [
        "from ansys.pyensight.core import LocalLauncher\n\nsession = LocalLauncher().start()\n# Setup shortcuts for long winded calls.\neocore = session.ensight.objs.core\neonums = session.ensight.objs.enums\neoutil = session.ensight.utils"
      ]
    },
    {
      "cell_type": "markdown",
      "metadata": {},
      "source": [
        "## Load a dataset\nLoad Shuttle data included in the EnSight installation and render\n\n<img src=\"file://_static/03_ptrace_0.png\">\n\n"
      ]
    },
    {
      "cell_type": "code",
      "execution_count": null,
      "metadata": {
        "collapsed": false
      },
      "outputs": [],
      "source": [
        "xyz_file = f\"{session.cei_home}/ensight{session.cei_suffix}/data/plot3d/shuttle.xyz\"\nq_file = f\"{session.cei_home}/ensight{session.cei_suffix}/data/plot3d/shuttle.q\"\nsession.load_data(\n    data_file=xyz_file,\n    result_file=q_file,\n    file_format=\"PLOT3D\",\n    representation=\"3D_feature_2D_full\",\n)\nsession.show(\"image\", width=800, height=600)"
      ]
    },
    {
      "cell_type": "markdown",
      "metadata": {},
      "source": [
        "## Extract an IJK Range\nThe PLOT3D reader only reads the volume by default. Extract a\nparticular IJK range for the surface of the shuttle\n\n"
      ]
    },
    {
      "cell_type": "code",
      "execution_count": null,
      "metadata": {
        "collapsed": false
      },
      "outputs": [],
      "source": [
        "session.ensight.data_partbuild.begin()\nsession.ensight.case.select(\"Case 1\")\nsession.ensight.data_partbuild.data_type(\"structured\")\nsession.ensight.data_partbuild.group(\"OFF\")\nsession.ensight.data_partbuild.select_begin(1)\nsession.ensight.data_partbuild.domain(\"all\")\nsession.ensight.data_partbuild.noderange_i(1, 53)\nsession.ensight.data_partbuild.noderange_j(1, 63)\nsession.ensight.data_partbuild.noderange_k(1, 1)\nsession.ensight.data_partbuild.nodestep(1, 1, 1)\nsession.ensight.data_partbuild.nodedelta(0, 0, 0)\nsession.ensight.data_partbuild.description(\"Shuttle\")\nsession.ensight.data_partbuild.create()\nsession.ensight.part.select_byname_begin(\"(CASE:Case 1)Shuttle\")\nsession.ensight.case.select(\"Case 1\")\nsession.ensight.data_partbuild.end()"
      ]
    },
    {
      "cell_type": "markdown",
      "metadata": {},
      "source": [
        "## Setup the View\nSet View, Turn on Symmetry, turn off visibility of flow domain.\n\n"
      ]
    },
    {
      "cell_type": "code",
      "execution_count": null,
      "metadata": {
        "collapsed": false
      },
      "outputs": [],
      "source": [
        "session.ensight.view_transf.rotate(-109.084335, -1.64276719, 0)\nsession.ensight.view_transf.rotate(-2.38553524, 115.462845, 0)\nsession.ensight.view_transf.zoom(0.489253074)\nsession.ensight.view_transf.look_at(2.4110589, 0.567389309, 0.241451085)\nsession.ensight.view_transf.look_from(2.4110589, 0.567389309, 5.69335651)\n\nsession.ensight.part.select_all()\nsession.ensight.part.modify_begin()\nsession.ensight.part.symmetry_type(\"mirror\")\nsession.ensight.part.symmetry_mirror_y(\"ON\")\nsession.ensight.part.modify_end()\n\nsession.ensight.part.select_begin(1)\nsession.ensight.part.modify_begin()\nsession.ensight.part.visible(\"OFF\")\nsession.ensight.part.modify_end()"
      ]
    },
    {
      "cell_type": "markdown",
      "metadata": {},
      "source": [
        "## Create a Particle Trace using the Line Tool Specification\nUsing the 3D parts as the parent, with the line tool as the emission type\n\"Momentum\" as the vector, and 50 points alone the line as emitter locations.\n\n<img src=\"file://_static/03_ptrace_1.png\">\n\n"
      ]
    },
    {
      "cell_type": "code",
      "execution_count": null,
      "metadata": {
        "collapsed": false
      },
      "outputs": [],
      "source": [
        "pt1 = [0.1245, 0.064366, -0.03438]\npt2 = [1.0018, 0.399756, -0.03258]\nparent_parts = eoutil.parts.select_parts_by_dimension(3)\nnpts = 50  # number of emitters\nvector_var = eocore.VARIABLES[\"Momentum\"][0]  # Vector variable to use\nstrpart = eoutil.parts.create_particle_trace_from_line(\n    \"Streamline\",\n    vector_var,\n    point1=pt1,\n    point2=pt2,\n    num_points=npts,\n    source_parts=parent_parts,\n    direction=\"+/-\",\n)\nsession.show(\"image\", width=800, height=600)"
      ]
    },
    {
      "cell_type": "markdown",
      "metadata": {},
      "source": [
        "## Change Visual Attributes\n Modify the attributes of the Streamline for visual clarity\n\n<img src=\"file://_static/03_ptrace_2.png\">\n\n"
      ]
    },
    {
      "cell_type": "code",
      "execution_count": null,
      "metadata": {
        "collapsed": false
      },
      "outputs": [],
      "source": [
        "strpart.REPRESENTATION = eonums.TRACE_TUBE\nstrpart.WIDTHSCALEFACTOR = 0.012\nstrpart.COLORBYPALETTE = \"Momentum\"\nsession.show(\"image\", width=800, height=600)"
      ]
    },
    {
      "cell_type": "markdown",
      "metadata": {},
      "source": [
        "## Animate the Streamlines\n Turn OFF the streamlines (to see the animate under)\n Turn ON the animate streamlines.\n Change to Sphere representation, size, and adjust speed and length.\n\n<img src=\"file://_static/03_ptrace_3.png\">\n\n"
      ]
    },
    {
      "cell_type": "code",
      "execution_count": null,
      "metadata": {
        "collapsed": false
      },
      "outputs": [],
      "source": [
        "strpart.VISIBLE = False\nstrpart.ANIMATE = True\neocore.HEADTYPE = eonums.ATRACE_HEAD_SPHERE\neocore.HEADSCALE = 0.03\neocore.PARTICLETIME = 2.0\neocore.DELTATIME = 0.065\neocore.MULTIPLEPULSES = True\nsession.show(\"image\", width=800, height=600)"
      ]
    },
    {
      "cell_type": "markdown",
      "metadata": {},
      "source": [
        "Close the session\n\n\n"
      ]
    },
    {
      "cell_type": "code",
      "execution_count": null,
      "metadata": {
        "collapsed": false
      },
      "outputs": [],
      "source": [
        "# sphinx_gallery_thumbnail_path = '_static/03_ptrace_2.png'\nsession.close()"
      ]
    }
  ],
  "metadata": {
    "kernelspec": {
      "display_name": "Python 3",
      "language": "python",
      "name": "python3"
    },
    "language_info": {
      "codemirror_mode": {
        "name": "ipython",
        "version": 3
      },
      "file_extension": ".py",
      "mimetype": "text/x-python",
      "name": "python",
      "nbconvert_exporter": "python",
      "pygments_lexer": "ipython3",
      "version": "3.11.13"
    }
  },
  "nbformat": 4,
  "nbformat_minor": 0
}
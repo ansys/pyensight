{
  "cells": [
    {
      "cell_type": "code",
      "execution_count": null,
      "metadata": {
        "collapsed": false
      },
      "outputs": [],
      "source": [
        "# PyEnSight example Notebook\n#"
      ]
    },
    {
      "cell_type": "markdown",
      "metadata": {},
      "source": [
        "\n\n# Volume Rendering to Visualize Flow\n\nUtilize EnSight to demonstrate the value of Volume Rendering\nas a tool to visualize flow in 3D\n\nThis script will work with EnSight 2024 R2 or higher.\n"
      ]
    },
    {
      "cell_type": "markdown",
      "metadata": {},
      "source": [
        "## Start an EnSight session\nLaunch and connect to an instance of EnSight.\nThis example uses a local EnSight installation and an interactive EnSight\nGUI (batch=False).\n\n"
      ]
    },
    {
      "cell_type": "code",
      "execution_count": null,
      "metadata": {
        "collapsed": false
      },
      "outputs": [],
      "source": [
        "from ansys.pyensight.core import LocalLauncher\n\nsession = LocalLauncher(batch=False).start()"
      ]
    },
    {
      "cell_type": "markdown",
      "metadata": {},
      "source": [
        "## Load a dataset\nLoad Shuttle Session file included in the EnSight installation and render\n\n<img src=\"file://_static/07_volume_render_0.png\">\n\n"
      ]
    },
    {
      "cell_type": "code",
      "execution_count": null,
      "metadata": {
        "collapsed": false
      },
      "outputs": [],
      "source": [
        "xyz_file = f\"{session.cei_home}/ensight{session.cei_suffix}/data/plot3d/shuttle.xyz\"\nq_file = f\"{session.cei_home}/ensight{session.cei_suffix}/data/plot3d/shuttle.q\"\nsession.load_data(\n    data_file=xyz_file,\n    result_file=q_file,\n    file_format=\"PLOT3D\",\n    representation=\"3D_feature_2D_full\",\n)\n# disable the ground planes (if any).  These can be skipped for EnSight prior to 2024 R2\nsession.ensight.scene.ground_plane_normal(\"+Z\")\nsession.ensight.scene.ground_plane_visible(\"OFF\")\n\n# LPARTS are loadable parts in EnSight. The idea here is to take the\n# only structured part available and build after it a 2D surface, that\n# is the body surface. This is accomplished just selecting the max\n# values of the I,J,K directions and then loading the LPART\n\nlpart = session.ensight.objs.core.CURRENTCASE[0].LPARTS[0]\nlpart.NODEMAX = [53, 63, 1]\nlpart.load()\n\n# Hide the original volume part\nsession.ensight.part.select_begin(1)\nsession.ensight.part.visible(\"OFF\")\n\n# disable highlighting.\nsession.ensight.view.highlight_parts(\"OFF\")\n\nsession.show(\"image\", width=800, height=600)"
      ]
    },
    {
      "cell_type": "markdown",
      "metadata": {},
      "source": [
        "## Set up the Scene\n\nLoad the \"Mach\" variable and color parts by the variable.\nCreate a volume clip object that will be volume rendered.\n\n<img src=\"file://_static/07_volume_render_1.png\">\n\n"
      ]
    },
    {
      "cell_type": "code",
      "execution_count": null,
      "metadata": {
        "collapsed": false
      },
      "outputs": [],
      "source": [
        "session.ensight.objs.core.PARTS[1].COLORBYRGB = [0.6, 0.6, 0.6]\nsession.ensight.objs.core.PARTS[0].COLORBYPALETTE = \"Mach\"\nsession.ensight.function.palette(\"Mach\")\nsession.ensight.function.modify_begin()\nsession.ensight.function.restore_predefinedpal(\"use_new_levels\", \"Magma\")\nsession.ensight.function.modify_end()\n\n# Create a box clip that will be volume rendered\nsession.ensight.part.select_begin(1)\nsession.ensight.clip.begin()\nsession.ensight.clip.domain(\"volume\")\nsession.ensight.clip.tool(\"xyz_box\")\nsession.ensight.clip.sample_step(128, 128, 128)\nsession.ensight.clip.origin(-0.497170001, 1.27204275, -0.879772604)\nsession.ensight.clip.axis(\"x\", 0, 0, 1)\nsession.ensight.clip.axis(\"y\", 0, -1, 0)\nsession.ensight.clip.axis(\"z\", 1, 0, 0)\nsession.ensight.clip.length(2.24244738, 1.27204275, 3.60410643)\nsession.ensight.clip.end()\nsession.ensight.clip.create()\n\n# Display amd range the palette\nsession.ensight.legend.select_palette_begin(\"Mach\")\nsession.ensight.legend.visible(\"ON\")\nsession.ensight.function.palette(\"Mach\")\nsession.ensight.function.range(0, 0.527223)\nsession.ensight.legend.width(0.024464285)\nsession.ensight.legend.height(0.628260851)\nsession.ensight.function.range(0.02, 0.353)\n\n# Color the volume part by Mach and force a redraw\np = session.ensight.objs.core.PARTS[\"Volume_clip\"][0]\np.COLORBYPALETTE = session.ensight.objs.core.VARIABLES[\"Mach\"][0]\nsession.ensight.refresh(force=1)\n\n# Select a black background color\nv = session.ensight.objs.core.VPORTS[0]\nv.BACKGROUNDTYPE = session.ensight.objs.enums.VPORT_CONS\nv.CONSTANTRGB = [0.0, 0.0, 0.0]\n\n# Enable part symmetry for \"Zone 1\" and \"Volume_clip\"\nparts = session.ensight.objs.core.PARTS[(\"Zone 1\", \"Volume_clip\")]\nparts.set_attr(\"SYMMETRYTYPE\", session.ensight.objs.enums.VISUAL_SYMM_MIRROR)\nparts.set_attr(\"SYMMETRYMIRRORY\", 1)\n\n# set up a view\nsession.ensight.viewport.select_begin(0)\nsession.ensight.view_transf.initialize_viewports()\nsession.ensight.view_transf.rotate(47.9834213, 164.538452, 0)\nsession.ensight.view_transf.rotate(80.5524902, -9.46153545, 0)\nsession.ensight.view_transf.rotate(-13.1767969, -36.6923141, 0)\nsession.ensight.view_transf.zoom(0.539702117)\nsession.ensight.view_transf.zoom(0.923283696)\nsession.ensight.view_transf.zoom(0.996746957)\n\nsession.show(\"image\", width=800, height=600)"
      ]
    },
    {
      "cell_type": "markdown",
      "metadata": {},
      "source": [
        "## Set the Color Opacity Mapping\n\nThe key to all volume rendering visualization is the color palette\nmapping.  Here we adjust the opacity of various bands to make\ndifferent ranges more or less opaque.\n\n<img src=\"file://_static/07_volume_render_3.png\">\n\n"
      ]
    },
    {
      "cell_type": "code",
      "execution_count": null,
      "metadata": {
        "collapsed": false
      },
      "outputs": [],
      "source": [
        "session.ensight.function.palette(\"Mach\")\nsession.ensight.function.point(13, \"alpha\", 0.901578, 0.000000)\nsession.ensight.function.point(12, \"alpha\", 0.733333, 0.000000)\nsession.ensight.function.point(11, \"alpha\", 0.727589, 0.675544)\nsession.ensight.function.point(10, \"alpha\", 0.662061, 0.672927)\nsession.ensight.function.point(9, \"alpha\", 0.610090, 0.000000)\nsession.ensight.function.point(8, \"alpha\", 0.526485, 0.000000)\nsession.ensight.function.point(7, \"alpha\", 0.506149, 0.686010)\nsession.ensight.function.point(6, \"alpha\", 0.431582, 0.686010)\nsession.ensight.function.point(5, \"alpha\", 0.384131, 0.000000)\nsession.ensight.function.point(4, \"alpha\", 0.291488, 0.000000)\nsession.ensight.function.point(3, \"alpha\", 0.264372, 0.693860)\nsession.ensight.function.point(2, \"alpha\", 0.198844, 0.699093)\nsession.ensight.function.point(1, \"alpha\", 0.135576, 0.000000)\nsession.ensight.function.point(0, \"alpha\", 0.000000, 0.000000)\nsession.ensight.function.alpha_volume_scale(4.0)\n\nsession.ensight.refresh(force=1)\nsession.show(\"image\", width=800, height=600)"
      ]
    },
    {
      "cell_type": "markdown",
      "metadata": {},
      "source": [
        "Close the connection and shut down the EnSight instance.\n\n"
      ]
    },
    {
      "cell_type": "code",
      "execution_count": null,
      "metadata": {
        "collapsed": false
      },
      "outputs": [],
      "source": [
        "# sphinx_gallery_thumbnail_path = '_static/07_volume_render_3.png'\n\nsession.close()"
      ]
    }
  ],
  "metadata": {
    "kernelspec": {
      "display_name": "Python 3",
      "language": "python",
      "name": "python3"
    },
    "language_info": {
      "codemirror_mode": {
        "name": "ipython",
        "version": 3
      },
      "file_extension": ".py",
      "mimetype": "text/x-python",
      "name": "python",
      "nbconvert_exporter": "python",
      "pygments_lexer": "ipython3",
      "version": "3.11.13"
    }
  },
  "nbformat": 4,
  "nbformat_minor": 0
}
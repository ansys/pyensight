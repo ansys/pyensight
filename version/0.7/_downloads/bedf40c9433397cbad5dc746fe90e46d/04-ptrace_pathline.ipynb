{
  "cells": [
    {
      "cell_type": "code",
      "execution_count": null,
      "metadata": {
        "collapsed": false
      },
      "outputs": [],
      "source": [
        "# PyEnSight example Notebook\n#"
      ]
    },
    {
      "cell_type": "markdown",
      "metadata": {},
      "source": [
        "\n\n# Pathline (transient streamline) Creation\n\nUtilize EnSight Particle Trace for Pathline (transient streamline).\nCreate a Pathline and Animate it.\n"
      ]
    },
    {
      "cell_type": "markdown",
      "metadata": {},
      "source": [
        "## Start an EnSight session\nLaunch and connect to an instance of EnSight.\nThis example uses a local EnSight installation.\n\n"
      ]
    },
    {
      "cell_type": "code",
      "execution_count": null,
      "metadata": {
        "collapsed": false
      },
      "outputs": [],
      "source": [
        "from ansys.pyensight.core import LocalLauncher\n\nsession = LocalLauncher().start()\n\n# Setup shortcuts for long winded calls.\neocore = session.ensight.objs.core\neonums = session.ensight.objs.enums\neoutil = session.ensight.utils"
      ]
    },
    {
      "cell_type": "markdown",
      "metadata": {},
      "source": [
        "## Load a dataset\nLoad Flow2D dataset included in the EnSight installation\nset the timestep to the minimum timestep and render.\n\n<img src=\"file://_static/04_pathline_0.png\">\n\n"
      ]
    },
    {
      "cell_type": "code",
      "execution_count": null,
      "metadata": {
        "collapsed": false
      },
      "outputs": [],
      "source": [
        "session.load_data(f\"{session.cei_home}/ensight{session.cei_suffix}/data/flow2d/flow2d.case\")\nvarname = eocore.VARIABLES[\"VITESSE\"][0]\neocore.PARTS.set_attr(\"COLORBYPALETTE\", varname)\nsession.ensight.objs.core.TIMESTEP = session.ensight.objs.core.TIMESTEP_LIMITS[0]\nsession.show(\"image\", width=800, height=600)"
      ]
    },
    {
      "cell_type": "markdown",
      "metadata": {},
      "source": [
        "## Create a clip plane\nCreate a clip through the domain, at X = 0.75.\nWe first call up the default clip part, set attributes, and then create the clip\nMESHPLANE sets the type of clip (e.g. X, Y, Z, R, T, Z, etc)\nTOOL sets the tool to create the clip from.\nVALUE is the location of the clip.\nDOMAIN controls intersection vs inside vs outside etc.\nParent Part is named 'Part by All Elements'\n\n\n"
      ]
    },
    {
      "cell_type": "code",
      "execution_count": null,
      "metadata": {
        "collapsed": false
      },
      "outputs": [],
      "source": [
        "clip = eocore.DEFAULTPARTS[session.ensight.PART_CLIP_PLANE]\nparent_parts = eocore.PARTS[\"Part by All Elements\"][0]\n\nattrs = []\nattrs.append([\"MESHPLANE\", eonums.MESH_SLICE_X])\nattrs.append([\"TOOL\", eonums.CT_XYZ])\nattrs.append([\"VALUE\", 0.75])\nattrs.append([\"DOMAIN\", eonums.CLIP_DOMAIN_INTER])\nclip = clip.createpart(name=\"X_Clip\", sources=[parent_parts], attributes=attrs)"
      ]
    },
    {
      "cell_type": "markdown",
      "metadata": {},
      "source": [
        "## Create a Pathline Trace Emitting from the Clip Part\nUsing the 2D parts as the parent (model is 2d), with the \"from Part\" as the emission type\n\"VITESSE\" as the vector, and 25 points along the Clip line as emitter locations.\nWe also setup to first emit the Pathlines at time = 4 seconds.\nand Emit NEW pathlines ever 20 seconds after that. (They will follow NEW path)\n\n<img src=\"file://_static/04_pathline_1.png\">\n\n"
      ]
    },
    {
      "cell_type": "code",
      "execution_count": null,
      "metadata": {
        "collapsed": false
      },
      "outputs": [],
      "source": [
        "emitter_part = clip\nparent_parts = eoutil.parts.select_parts_by_dimension(2)\nnpts = 25  # number of emitters\nvector_var = varname  # Vector variable to use\npathline_part = eoutil.parts.create_particle_trace_from_parts(\n    \"Pathline\",\n    vector_var,\n    parts=emitter_part,\n    num_points=npts,\n    source_parts=parent_parts,\n    pathlines=True,\n    emit_time=4.0,\n    delta_time=20.0,\n)\nsession.show(\"image\", width=800, height=600)"
      ]
    },
    {
      "cell_type": "markdown",
      "metadata": {},
      "source": [
        "## Change Visual Attributes\n Modify the attributes of the pathlines and animate over time\n\n<img src=\"file://_static/04_pathline_2.png\">\n\n"
      ]
    },
    {
      "cell_type": "code",
      "execution_count": null,
      "metadata": {
        "collapsed": false
      },
      "outputs": [],
      "source": [
        "pathline_part.REPRESENTATION = eonums.TRACE_TUBE\npathline_part.WIDTHSCALEFACTOR = 0.012\nsession.show(\"image\", width=800, height=600)"
      ]
    },
    {
      "cell_type": "markdown",
      "metadata": {},
      "source": [
        "## Animate the Pathlines\n Turn OFF the pathline lines visibility (to see the animate under)\n Turn ON the animate pathlines.\n Change to Sphere representation, size, and adjust speed and length.\n\n.. video:: ../../_static/04_pathline_3.mp4\n    :width: 640\n    :height: 360\n\n\n"
      ]
    },
    {
      "cell_type": "code",
      "execution_count": null,
      "metadata": {
        "collapsed": false
      },
      "outputs": [],
      "source": [
        "pathline_part.VISIBLE = False\npathline_part.ANIMATE = True\neocore.HEADTYPE = eonums.ATRACE_HEAD_SPHERE\neocore.HEADSCALE = 0.3\nsession.ensight.solution_time.play_forward()\nsession.show(\"animation\", width=800, height=600, fps=15)"
      ]
    },
    {
      "cell_type": "markdown",
      "metadata": {},
      "source": [
        "Close the session\n\n"
      ]
    },
    {
      "cell_type": "code",
      "execution_count": null,
      "metadata": {
        "collapsed": false
      },
      "outputs": [],
      "source": [
        "# sphinx_gallery_thumbnail_path = '_static/04_pathline_2.png'\nsession.close()"
      ]
    }
  ],
  "metadata": {
    "kernelspec": {
      "display_name": "Python 3",
      "language": "python",
      "name": "python3"
    },
    "language_info": {
      "codemirror_mode": {
        "name": "ipython",
        "version": 3
      },
      "file_extension": ".py",
      "mimetype": "text/x-python",
      "name": "python",
      "nbconvert_exporter": "python",
      "pygments_lexer": "ipython3",
      "version": "3.10.14"
    }
  },
  "nbformat": 4,
  "nbformat_minor": 0
}
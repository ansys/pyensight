{
  "cells": [
    {
      "cell_type": "code",
      "execution_count": null,
      "metadata": {
        "collapsed": false
      },
      "outputs": [],
      "source": [
        "# PyEnSight example Notebook\n#"
      ]
    },
    {
      "cell_type": "markdown",
      "metadata": {},
      "source": [
        "\n\n# Surface Restricted Traces and Line Integral Convolution\n\nUtilze EnSight to investigate two types of surface streamlines:\nSurface Restricted Traces (using Particle Trace)\nand LIC (Line Integral Convolution)\n\nIntended to work with EnSight version 24.2 or later\n"
      ]
    },
    {
      "cell_type": "markdown",
      "metadata": {},
      "source": [
        "## Start an EnSight session\nLaunch and connect to an instance of EnSight.\nThis example uses a local EnSight installation.\n\n"
      ]
    },
    {
      "cell_type": "code",
      "execution_count": null,
      "metadata": {
        "collapsed": false
      },
      "outputs": [],
      "source": [
        "from ansys.pyensight.core import LocalLauncher\n\nsession = LocalLauncher().start()\n\n# Setup shortcuts for long winded calls.\neocore = session.ensight.objs.core\neoutil = session.ensight.utils"
      ]
    },
    {
      "cell_type": "markdown",
      "metadata": {},
      "source": [
        "## Load a dataset\nLoad Shuttle Session file included in the EnSight installation and render\n\n<img src=\"file://_static/05_srt_lic_0.png\">\n\n"
      ]
    },
    {
      "cell_type": "code",
      "execution_count": null,
      "metadata": {
        "collapsed": false
      },
      "outputs": [],
      "source": [
        "session.ensight.objs.ensxml_restore_file(\n    f\"{session.cei_home}/ensight{session.cei_suffix}gui/demos/Shuttle Basic.ens\"\n)\nsession.ensight.view.highlight_parts(\"OFF\")\nsession.ensight.view_transf.fit(0)\nsession.show(\"image\", width=800, height=600)"
      ]
    },
    {
      "cell_type": "markdown",
      "metadata": {},
      "source": [
        "## Option 1. Using Particle Trace to create Surface Restricted Traces\nUsing a Particle Trace capability\nParent Part and Emit part are the same part.\nSurface Restriction is ON.\n<img src=\"file://_static/05_srt_lic_1.png\">\n\n"
      ]
    },
    {
      "cell_type": "code",
      "execution_count": null,
      "metadata": {
        "collapsed": false
      },
      "outputs": [],
      "source": [
        "emitter_part = eoutil.parts.select_parts_by_dimension(2)\nparent_parts = emitter_part\nnpts = 1500  # number of emitters\nvector_var = eocore.VARIABLES[\"Momentum\"][0]  # Vector variable to use\n\nSRTpart = eoutil.parts.create_particle_trace_from_parts(\n    \"SurfaceRestrictedTrace\",\n    vector_var,\n    parts=emitter_part,\n    source_parts=parent_parts,\n    direction=\"+/-\",\n    surface_restrict=True,\n    num_points=npts,\n)\nsession.show(\"image\", width=800, height=600)"
      ]
    },
    {
      "cell_type": "markdown",
      "metadata": {},
      "source": [
        "## Change Visual Attributes\n Modify the attributes of the Surface Restricted Traces to\n be visually closer to Flourescene or Titantiam Dioxide (experimental use)\n<img src=\"file://_static/05_srt_lic_2.png\">\n\n"
      ]
    },
    {
      "cell_type": "code",
      "execution_count": null,
      "metadata": {
        "collapsed": false
      },
      "outputs": [],
      "source": [
        "SRTpart.colorbyrgb = [0, 1, 0]\nSRTpart.OPAQUENESS = 0.25\nsession.show(\"image\", width=800, height=600)"
      ]
    },
    {
      "cell_type": "markdown",
      "metadata": {},
      "source": [
        "## Try Line Integral Convolution (LIC) instead\n As we don't already have a near-surface, non-zero vector defined we need to create 'Offset' Variable.\n Create Offset Variable for Value of Momentum at 2.e-5 distance into fluid domain\n Specify Offset Variable as the variable for LIC.\n Specify High Contrast and 1 length for the LIC\n Specify that we want to see LIC for the Shuttle Surface\n<img src=\"file://_static/05_srt_lic_3.png\">\n\n"
      ]
    },
    {
      "cell_type": "code",
      "execution_count": null,
      "metadata": {
        "collapsed": false
      },
      "outputs": [],
      "source": [
        "SRTpart.VISIBLE = False\nsession.ensight.part.select_byname_begin(\"(CASE:Case 1)Shuttle\")\nsession.ensight.variables.evaluate(\"OffsetVar = OffsetVar(plist,Momentum,2e-05)\")\n\nsession.ensight.case.sft_variable(\"OffsetVar\")\nsession.ensight.case.sft_contrast(\"ON\")\nsession.ensight.case.sft_norm_length(1.000000)\n\nsession.ensight.part.select_byname_begin(\"(CASE:Case 1)Shuttle\")\nsession.ensight.part.show_sft(\"ON\")\nsession.show(\"image\", width=800, height=600)"
      ]
    },
    {
      "cell_type": "markdown",
      "metadata": {},
      "source": [
        "Thumbnail\nsphinx_gallery_thumbnail_path = '_static/05_srt_lic_3.png'\n\n"
      ]
    },
    {
      "cell_type": "code",
      "execution_count": null,
      "metadata": {
        "collapsed": false
      },
      "outputs": [],
      "source": [
        "session.close()"
      ]
    }
  ],
  "metadata": {
    "kernelspec": {
      "display_name": "Python 3",
      "language": "python",
      "name": "python3"
    },
    "language_info": {
      "codemirror_mode": {
        "name": "ipython",
        "version": 3
      },
      "file_extension": ".py",
      "mimetype": "text/x-python",
      "name": "python",
      "nbconvert_exporter": "python",
      "pygments_lexer": "ipython3",
      "version": "3.10.14"
    }
  },
  "nbformat": 4,
  "nbformat_minor": 0
}
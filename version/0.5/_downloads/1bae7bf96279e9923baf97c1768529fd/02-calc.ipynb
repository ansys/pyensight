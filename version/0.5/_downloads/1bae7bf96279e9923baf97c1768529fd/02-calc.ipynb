{
  "cells": [
    {
      "cell_type": "code",
      "execution_count": null,
      "metadata": {
        "collapsed": false
      },
      "outputs": [],
      "source": [
        "# PyEnSight example Notebook\n#"
      ]
    },
    {
      "cell_type": "markdown",
      "metadata": {},
      "source": [
        "\n\n# Calculator usage\n\nUtilze EnSight Calculator to compute the Spatial Mean of a field variable.\nDisplay this constant value, and the create graph over time.\n"
      ]
    },
    {
      "cell_type": "markdown",
      "metadata": {},
      "source": [
        "## Start an EnSight session\nLaunch and connect to an instance of EnSight.\nThis example uses a local EnSight installation.\n\n"
      ]
    },
    {
      "cell_type": "code",
      "execution_count": null,
      "metadata": {
        "collapsed": false
      },
      "outputs": [],
      "source": [
        "from ansys.pyensight.core import LocalLauncher\n\nsession = LocalLauncher().start()\n# Setup shortcuts for long winded calls.\neocore = session.ensight.objs.core\neonums = session.ensight.objs.enums\neoutil = session.ensight.utils"
      ]
    },
    {
      "cell_type": "markdown",
      "metadata": {},
      "source": [
        "## Load a dataset\nLoad transient data included in the EnSight installation and render\n\n<img src=\"file://_static/02_calc_0.png\">\n\n"
      ]
    },
    {
      "cell_type": "code",
      "execution_count": null,
      "metadata": {
        "collapsed": false
      },
      "outputs": [],
      "source": [
        "session.load_data(f\"{session.cei_home}/ensight{session.cei_suffix}/data/flow2d/flow2d.case\")\nvarname = eocore.VARIABLES[\"PRESSION\"][0]\neocore.PARTS.set_attr(\"COLORBYPALETTE\", varname)\nsession.show(\"image\", width=800, height=600)"
      ]
    },
    {
      "cell_type": "markdown",
      "metadata": {},
      "source": [
        "## Create a clip plane\nCreate a clip through the domain, at X = 8.0.\nWe first call up the default clip part, set attributes, and then create the clip\nMESHPLANE sets the type of clip (e.g. X, Y, Z, R, T, Z, etc)\nTOOL sets the tool to create the clip from.\nVALUE is the location of the clip.\nDOMAIN controls intersection vs inside vs outside etc.\nParent Part is named 'Part by All Elements'\n\n<img src=\"file://_static/02_calc_1.png\">\n\n"
      ]
    },
    {
      "cell_type": "code",
      "execution_count": null,
      "metadata": {
        "collapsed": false
      },
      "outputs": [],
      "source": [
        "clip = eocore.DEFAULTPARTS[session.ensight.PART_CLIP_PLANE]\nparent_parts = eocore.PARTS[\"Part by All Elements\"][0]\n\nattrs = []\nattrs.append([\"MESHPLANE\", eonums.MESH_SLICE_X])\nattrs.append([\"TOOL\", eonums.CT_XYZ])\nattrs.append([\"VALUE\", 8.0])\nattrs.append([\"DOMAIN\", eonums.CLIP_DOMAIN_INTER])\nclip = clip.createpart(name=\"X_Clip\", sources=[parent_parts], attributes=attrs)\nsession.show(\"image\", width=800, height=600)\nprint(\"Parts:\", eocore.PARTS)"
      ]
    },
    {
      "cell_type": "markdown",
      "metadata": {},
      "source": [
        "## Compute the Average Value of Pressure\nUse the calculator function SpaMean to compute the spatial mean of Pressure on the Clip part\nThe Parent Part for this calculator function (source) is the Clip Part Object from above\nThe 'var' variable object is the variable defined from that calculator function.\nGrab the constant value back out into Python to print()\n\n"
      ]
    },
    {
      "cell_type": "code",
      "execution_count": null,
      "metadata": {
        "collapsed": false
      },
      "outputs": [],
      "source": [
        "var = eocore.create_variable(\n    \"Ave_Value\",\n    value=\"SpaMean(plist,PRESSION,[],Compute_Per_case)\",\n    sources=[clip],\n)\npython_ave_value = var.MINMAX[0]\nprint(\"Python available value of Ave_Val = {}\".format(python_ave_value))"
      ]
    },
    {
      "cell_type": "markdown",
      "metadata": {},
      "source": [
        "## Create an annotation of Ave_Value\nCreate a text annotation, showing Ave_Value and place it near the top of the\nviewport in the center.\n\n<img src=\"file://_static/02_calc_3.png\">\n\n"
      ]
    },
    {
      "cell_type": "code",
      "execution_count": null,
      "metadata": {
        "collapsed": false
      },
      "outputs": [],
      "source": [
        "text_str = r\"\"\"Spatial Mean of Pression = <\\\\cnst C1 \"%.3f\" Ave_Value\\\\> \"\"\"\ntext = eocore.DEFAULTANNOTS[session.ensight.ANNOT_TEXT].createannot(text_str)\ntext.setattrs(dict(LOCATIONX=0.5, LOCATIONY=0.95))\nsession.show(\"image\", width=800, height=600)"
      ]
    },
    {
      "cell_type": "markdown",
      "metadata": {},
      "source": [
        "## Create an Graph of Ave_Value Over Time\nCreate a query, showing Ave_Value over timestep.\nWhen querying a constant, you can choose min or max of the constant to obtain its value.\nThe Parent Part_List for querying a Constant_Per_case can be any part list.\nMin time is 1; Max time is 160 seconds. There are 160 sample points in time.\n\n\n"
      ]
    },
    {
      "cell_type": "code",
      "execution_count": null,
      "metadata": {
        "collapsed": false
      },
      "outputs": [],
      "source": [
        "mintime = 1.0\nmaxtime = 160.0\nnum_samples = 160\nline_query = eoutil.query.create_temporal(\n    \"Ave_Val vs. time\",\n    query_type=\"min\",\n    part_list=eocore.PARTS,\n    variable1=\"Ave_Value\",\n    start_time=mintime,\n    end_time=maxtime,\n    num_samples=num_samples,\n    new_plotter=False,\n)"
      ]
    },
    {
      "cell_type": "markdown",
      "metadata": {},
      "source": [
        "## Display the query on a plotter\nQueries can be shown on a \"plotter\". The plotter defines a set of axes\nand various display features. This code creates a plotter is adds the query\nto this plotter. It then override many of the plotter visual features.\nFor example, it sets the axes scaling explicitly, creates a background grid,\nand adjusts the display of the axis text.\n\n<img src=\"file://_static/02_calc_4.png\">\n\n"
      ]
    },
    {
      "cell_type": "code",
      "execution_count": null,
      "metadata": {
        "collapsed": false
      },
      "outputs": [],
      "source": [
        "line_plot = eocore.defaultplot[0].createplotter()\nline_query.addtoplot(line_plot)\nline_plot.rescale()\nline_plot.PLOTTITLE = \"Ave_Value of Pression on 1D Clip vs Time\"\nline_plot.AXISXTITLE = \"Time (s)\"\nline_plot.AXISYTITLE = \"Ave_Value of Pression\"\nline_plot.LEGENDVISIBLE = False\nline_plot.AXISXAUTOSCALE = False\nline_plot.AXISXMIN = mintime\nline_plot.AXISXMAX = maxtime\nline_plot.AXISXLABELFORMAT = \"%.2f\"\nline_plot.AXISXGRIDTYPE = 1\nline_plot.AXISYGRIDTYPE = 1\nline_plot.TIMEMARKER = False\nline_plot.AXISYAUTOSCALE = False\nline_plot.AXISYMIN = -0.23\nline_plot.AXISYMAX = 0.00\nline_plot.ORIGINX = 0.05\nline_plot.ORIGINY = 0.25\nline_plot.WIDTH = 0.25\nline_plot.HEIGHT = 0.5\nsession.show(\"image\", width=800, height=600)"
      ]
    },
    {
      "cell_type": "markdown",
      "metadata": {},
      "source": [
        "## Close the connection and shut down the EnSight instance.\nsphinx_gallery_thumbnail_path = '_static/02_calc_4.png'\n\n"
      ]
    },
    {
      "cell_type": "code",
      "execution_count": null,
      "metadata": {
        "collapsed": false
      },
      "outputs": [],
      "source": [
        "session.close()"
      ]
    }
  ],
  "metadata": {
    "kernelspec": {
      "display_name": "Python 3",
      "language": "python",
      "name": "python3"
    },
    "language_info": {
      "codemirror_mode": {
        "name": "ipython",
        "version": 3
      },
      "file_extension": ".py",
      "mimetype": "text/x-python",
      "name": "python",
      "nbconvert_exporter": "python",
      "pygments_lexer": "ipython3",
      "version": "3.10.13"
    }
  },
  "nbformat": 4,
  "nbformat_minor": 0
}
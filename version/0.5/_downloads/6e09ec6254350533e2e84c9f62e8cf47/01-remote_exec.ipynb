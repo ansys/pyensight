{
  "cells": [
    {
      "cell_type": "code",
      "execution_count": null,
      "metadata": {
        "collapsed": false
      },
      "outputs": [],
      "source": [
        "# PyEnSight example Notebook\n#"
      ]
    },
    {
      "cell_type": "markdown",
      "metadata": {},
      "source": [
        "\n\n# Remote Function Execution\n\nThe PyEnsight interface relies very heavily on the performance of communication\nbetween the PyEnSight interpreter and the EnSight instance.  This communication,\nwhile fast, is not nearly as fast as running Python directly within the EnSight\ninstance.  In this example, some (unexpected) performance bottlenecks will be\ndiscussed along with methods that can be used to assert finer-grained control\nover Python code execution.\n"
      ]
    },
    {
      "cell_type": "markdown",
      "metadata": {},
      "source": [
        "## PyEnSight proxy objects\n\nThe EnSight API is based on the fact that every C++ object in EnSight can be\nuniquely identified by an ID.  This number is guaranteed to be unique within\na specific instance of EnSight. PyEnSight exploits this by creating proxy\nobjects that \"wrap\" an object ID.  This makes the PyEnSight interface simple\nand robust.\n\nThe EnSight API is mostly \"attributes\" with a few methods.  PyEnSight (and\nthe EnSight Python Object API) exposes these attributes as Python properties.\nEvery attempt to set or get an attribute results in a network call.  These\ncan be subtle.  For example, ``print(session.ensight.objs.core.PARTS[0])``\nresults in this output:\n``Class: ENS_PART_MODEL, desc: 'engine', CvfObjID: 1038, cached:no``.\nThe proxy id number is 1038.  Importantly, the string\n'engine' is the value of the DESCRIPTION attribute.  When the string is\nprinted, a complete network round trip is performed.  Similar situations\nexist when processing objects in ensobjlist objs.\n\nIn general, locally run PyEnSight code is much easier to develop and debug.\nIt is strongly suggested that initial development be done with local code\nexecution and only use switch to remote code execution if necessary to\nmeet performance requirements.\n\n\n"
      ]
    },
    {
      "cell_type": "markdown",
      "metadata": {},
      "source": [
        "## Atomic function execution\n\nPyEnSight supports two forms of asynchronous operation.  The first is for\nevent callbacks. The EnSight Python interpreter will only dispatch callbacks\nwhen the interpreter becomes \"idle\" (unless a flush is forced).  Thus, if\nrunning a function in PyEnSight that causes event callbacks to be executed,\nthese may be executed between lines inside the function.  Second, it is\nlegal for multiple sessions to be talking to the same EnSight instance.\nIn this situation, PyEnSight calls from the different session connections\nwill be multiplexed.\n\nA feature of remote execution is that the entire function will complete as\nan \"atomic\" operation.  This avoids multi-session multiplexing of commands\nand defers callbacks until the function completes. This has the helpful\nside effect of allowing for event compression as well, avoiding redundant\nevent callbacks.\n\n\n"
      ]
    },
    {
      "cell_type": "markdown",
      "metadata": {},
      "source": [
        "## Start an EnSight session\nStart by launching and connecting to an instance of EnSight.\nIn this case, we use a local installation of EnSight and load a simple\ndataset.\n\n"
      ]
    },
    {
      "cell_type": "code",
      "execution_count": null,
      "metadata": {
        "collapsed": false
      },
      "outputs": [],
      "source": [
        "import time\n\nfrom ansys.pyensight.core import LocalLauncher\n\nsession = LocalLauncher().start()\nsession.load_data(f\"{session.cei_home}/ensight{session.cei_suffix}/data/guard_rail/crash.case\")"
      ]
    },
    {
      "cell_type": "markdown",
      "metadata": {},
      "source": [
        "## Source level remote execution\n\nPerhaps the simplest approach is to use the :func:`cmd<ansys.pyensight.core.Session.cmd>`\nand the text representation of the function. Here the function simply collects the\nnames of all the parts.  We define the function and then call it in two calls.\nThe code in the function is executed entirely in the EnSight Python interpreter\nand the result can be returned when invoking the function.\n\nCare must be taken to ensure that the function does not conflict with other\nfunctions defined in the EnSight interpreter, but it is possible to store\nstate and instance data as well.  For example, a callback can be set up\nentirely in the EnSight interpreter.  This makes it possible to chain\nevent handling, doing parts of the work in the EnSight interpreter and\nother aspects of it in the PyEnSight interpreter.\n\nLimitations include the need for the function in source code form and some\ndifficulties passing arbitrary parameters to the function.\n\nOn a test system, the output is:\n\n``Remote: 0.03598785400390625``\n\n``['engine', 'tires', 'wheels', 'lights', 'front body', 'rear body', 'floor', 'windshields',\n'windows', 'bumpers', 'hood', 'mounts', 'guardrail supports', 'guardrail supports ->> 0001',\n'guardrail']``\n\n``Remote: 0.002001523971557617``\n\n``['engine', 'tires', 'wheels', 'lights', 'front body', 'rear body', 'floor', 'windshields',\n'windows', 'bumpers', 'hood', 'mounts', 'guardrail supports', 'guardrail supports ->> 0001',\n'guardrail']``\n\n"
      ]
    },
    {
      "cell_type": "code",
      "execution_count": null,
      "metadata": {
        "collapsed": false
      },
      "outputs": [],
      "source": [
        "def myfunc(ensight):\n    names = []\n    for p in ensight.objs.core.PARTS:\n        names.append(p.DESCRIPTION)\n    return names\n\n\nstart = time.time()\nnames = myfunc(session.ensight)\nprint(f\"Remote: {time.time()-start}\")\nprint(names)\n\ncmd = \"def myfunc():\\n\"\ncmd += \"    names = []\\n\"\ncmd += \"    for p in ensight.objs.core.PARTS:\\n\"\ncmd += \"        names.append(p.DESCRIPTION)\\n\"\ncmd += \"    return names.__repr__()\\n\"\nsession.cmd(cmd, do_eval=False)\nstart = time.time()\nnames = session.cmd(\"myfunc()\")\nprint(f\"Remote: {time.time()-start}\")\nprint(names)"
      ]
    },
    {
      "cell_type": "markdown",
      "metadata": {},
      "source": [
        "## Remote function calls\n\nNote: this feature requires that the version of the EnSight Python interpreter\nand the PyEnSight interpreter must be the same.  PyEnSight makes a check for\nthis when the such execution is requested.\n\nIn this configuration, a function defined is in the PyEnSight interpreter\nis captured and passed as byte code over the EnSight Python interpreter\nwith all parameters captured and passed.\n\nOn a test system, the output is:\n\n``(15, 0.09499883651733398)``\n\n``(15, 0.06392621994018555)``\n\n``(15, 0.0009984970092773438)``\n\n\n"
      ]
    },
    {
      "cell_type": "code",
      "execution_count": null,
      "metadata": {
        "collapsed": false
      },
      "outputs": [],
      "source": [
        "def count(ensight, attr, value):\n    import time  # time must be imported on the EnSight side as well\n\n    start = time.time()\n    count = 0\n    for p in ensight.objs.core.PARTS:\n        if p.getattr(attr) == value:\n            count += 1\n    return count, time.time() - start\n\n\nprint(count(session.ensight, \"VISIBLE\", True))\nprint(session.exec(count, \"VISIBLE\", True))\nprint(session.exec(count, \"VISIBLE\", True, remote=True))"
      ]
    },
    {
      "cell_type": "markdown",
      "metadata": {},
      "source": [
        "## Close the session\nClose the connection and shut down the EnSight instance\n\n"
      ]
    },
    {
      "cell_type": "code",
      "execution_count": null,
      "metadata": {
        "collapsed": false
      },
      "outputs": [],
      "source": [
        "session.close()"
      ]
    }
  ],
  "metadata": {
    "kernelspec": {
      "display_name": "Python 3",
      "language": "python",
      "name": "python3"
    },
    "language_info": {
      "codemirror_mode": {
        "name": "ipython",
        "version": 3
      },
      "file_extension": ".py",
      "mimetype": "text/x-python",
      "name": "python",
      "nbconvert_exporter": "python",
      "pygments_lexer": "ipython3",
      "version": "3.10.12"
    }
  },
  "nbformat": 4,
  "nbformat_minor": 0
}
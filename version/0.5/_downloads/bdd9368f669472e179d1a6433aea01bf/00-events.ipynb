{
  "cells": [
    {
      "cell_type": "code",
      "execution_count": null,
      "metadata": {
        "collapsed": false
      },
      "outputs": [],
      "source": [
        "# PyEnSight example Notebook\n#"
      ]
    },
    {
      "cell_type": "markdown",
      "metadata": {},
      "source": [
        "\n\n# Asynchronous event support\n\nEvery attribute change may have an event callback associated with it.\nThis example explores different connection mechanisms and different\nmechanisms for getting data values.\n"
      ]
    },
    {
      "cell_type": "markdown",
      "metadata": {},
      "source": [
        "## Start an EnSight session\nLaunch and connect to an instance of EnSight.\nThis example uses a local EnSight installation.\n\n"
      ]
    },
    {
      "cell_type": "code",
      "execution_count": null,
      "metadata": {
        "collapsed": false
      },
      "outputs": [],
      "source": [
        "from urllib.parse import parse_qs, urlparse\n\nfrom IPython.display import display\nfrom ansys.pyensight.core import LocalLauncher\nfrom ipywidgets import widgets\n\nsession = LocalLauncher().start()"
      ]
    },
    {
      "cell_type": "markdown",
      "metadata": {},
      "source": [
        "## Register an event callback\nThe simplest case for registering an event callback is for a specific\nattribute on a specific object. This example registers an event callback\nto the ``ensight.objs.core`` object. Whenever the ``PARTS`` attribute changes,\nthe callback function is called when a dataset is loaded. Every callback function\nincludes a string that is returned as a parameter to the callback function.\n\n"
      ]
    },
    {
      "cell_type": "code",
      "execution_count": null,
      "metadata": {
        "collapsed": false
      },
      "outputs": [],
      "source": [
        "partlist_disp = widgets.HTML()\ndisplay(partlist_disp)\n\n\ndef part_list(name: str):\n    partlist_disp.value = f\"Event: {name}\"\n\n\nsession.add_callback(session.ensight.objs.core, \"partlist_name\", [\"PARTS\"], part_list)"
      ]
    },
    {
      "cell_type": "markdown",
      "metadata": {},
      "source": [
        "## Load a dataset\nThis code loads some data included in the EnSight installation and brings up\nan interactive viewer for the scene.\n\n<img src=\"file://_static/00_events_0.png\">\n\nThe callback string is ``grpc://.../partlist_name?enum=PARTS&uid=220``.\nThe callback is in the form of a URI, where \"partlist_name\" is the string from the\ncall to the :func:`add_callback<ansys.pyensight.core.Session.add_callback>` method.\nThe name of the attribute is always returned in ``enum``, and the ID of the object\nis returned in ``uid``.\n\n"
      ]
    },
    {
      "cell_type": "code",
      "execution_count": null,
      "metadata": {
        "collapsed": false
      },
      "outputs": [],
      "source": [
        "session.load_data(f\"{session.cei_home}/ensight{session.cei_suffix}/data/guard_rail/crash.case\")\nrender = session.show(\"remote\")"
      ]
    },
    {
      "cell_type": "markdown",
      "metadata": {},
      "source": [
        "## Register an event callback on a class\nEvents can be associated with classes as well. This code associates a callback\nwith all part objects, listening to both the ``VISIBLE`` and ``COLORBYRGB``\nattributes. The ``urllib`` module is used to parse out the returned value.\n\n<img src=\"file://_static/00_events_1.png\">\n\nAfter running this code, the cell value calls out the change in the\ncolor of the windshield.\n\n"
      ]
    },
    {
      "cell_type": "code",
      "execution_count": null,
      "metadata": {
        "collapsed": false
      },
      "outputs": [],
      "source": [
        "part_disp = widgets.HTML()\ndisplay(part_disp)\n\n\ndef part_event(uri: str):\n    p = urlparse(uri)\n    q = parse_qs(p.query)\n    obj = session.ensight.objs.wrap_id(int(q[\"uid\"][0]))\n    value = obj.getattr(q[\"enum\"][0])\n    part_disp.value = f\"Part: {obj}, Attribute: {q['enum'][0]} Value: {value}\"\n\n\nattribs = [session.ensight.objs.enums.VISIBLE, session.ensight.objs.enums.COLORBYRGB]\nsession.add_callback(\"'ENS_PART'\", \"partattr\", attribs, part_event)\n\nsession.ensight.objs.core.PARTS[\"hood\"][0].COLORBYRGB = [1.0, 0.0, 0.0]"
      ]
    },
    {
      "cell_type": "markdown",
      "metadata": {},
      "source": [
        "## Trigger with the ``VISIBLE`` attribute\nThis code triggers the same callback when changes are madee to the\n``VISIBLE`` attribute.\n\n<img src=\"file://_static/00_events_2.png\">\n\n"
      ]
    },
    {
      "cell_type": "code",
      "execution_count": null,
      "metadata": {
        "collapsed": false
      },
      "outputs": [],
      "source": [
        "session.ensight.objs.core.parts[\"windshields\"].set_attr(session.ensight.objs.enums.VISIBLE, True)"
      ]
    },
    {
      "cell_type": "markdown",
      "metadata": {},
      "source": [
        "## Trigger with a callback macro\nThis code extends the previous example by using the macro mechanism to capture\nboth visibility and RGB color values. The ``name`` string includes a mechanism\nfor including target object values directly in the returned URI. This mechanism\navoids the need to make PyEnSight calls from within a callback function. This\ncan avoid reentrancy and performance issues. This approach is more efficient\nthan the approach used in the previous example.\n\n<img src=\"file://_static/00_events_3.png\">\n\n"
      ]
    },
    {
      "cell_type": "code",
      "execution_count": null,
      "metadata": {
        "collapsed": false
      },
      "outputs": [],
      "source": [
        "macro_disp = widgets.HTML()\ndisplay(macro_disp)\n\n\ndef macro_event(uri: str):\n    p = urlparse(uri)\n    q = parse_qs(p.query)\n    obj = session.ensight.objs.wrap_id(int(q[\"uid\"][0]))\n    obj.getattr(q[\"enum\"][0])\n    macro_disp.value = f\"Part: {obj}, Attr: {q['enum'][0]} Visible: {q['visible']}  RGB: {q['rgb']}\"\n\n\nattribs = [session.ensight.objs.enums.VISIBLE, session.ensight.objs.enums.COLORBYRGB]\nname = \"partmacro?visible={{VISIBLE}}&rgb={{COLORBYRGB}}\"\nsession.add_callback(\"'ENS_PART'\", name, attribs, macro_event)\n\nsession.ensight.objs.core.PARTS[\"hood\"][0].COLORBYRGB = [0.0, 1.0, 0.0]"
      ]
    },
    {
      "cell_type": "markdown",
      "metadata": {},
      "source": [
        "## Close the session\nClose the connection and shut down the EnSight instance.\n\n"
      ]
    },
    {
      "cell_type": "code",
      "execution_count": null,
      "metadata": {
        "collapsed": false
      },
      "outputs": [],
      "source": [
        "session.close()"
      ]
    }
  ],
  "metadata": {
    "kernelspec": {
      "display_name": "Python 3",
      "language": "python",
      "name": "python3"
    },
    "language_info": {
      "codemirror_mode": {
        "name": "ipython",
        "version": 3
      },
      "file_extension": ".py",
      "mimetype": "text/x-python",
      "name": "python",
      "nbconvert_exporter": "python",
      "pygments_lexer": "ipython3",
      "version": "3.10.12"
    }
  },
  "nbformat": 4,
  "nbformat_minor": 0
}
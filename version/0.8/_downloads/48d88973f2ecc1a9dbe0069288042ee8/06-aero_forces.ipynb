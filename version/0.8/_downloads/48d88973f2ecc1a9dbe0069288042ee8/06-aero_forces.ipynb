{
  "cells": [
    {
      "cell_type": "code",
      "execution_count": null,
      "metadata": {
        "collapsed": false
      },
      "outputs": [],
      "source": [
        "# PyEnSight example Notebook\n#"
      ]
    },
    {
      "cell_type": "markdown",
      "metadata": {},
      "source": [
        "\n\n# Calculate the Net Aerodynamic Forces\n\nUtilize EnSight Net Force Tool in order\nto Calculate the Net Aerodynamic Forces\n\nIntended to work with EnSight version 24.2 or later\n"
      ]
    },
    {
      "cell_type": "markdown",
      "metadata": {},
      "source": [
        "## Start an EnSight session\nLaunch and connect to an instance of EnSight.\nThis example uses a local EnSight installation.\n\n"
      ]
    },
    {
      "cell_type": "code",
      "execution_count": null,
      "metadata": {
        "collapsed": false
      },
      "outputs": [],
      "source": [
        "import math\n\nfrom ansys.pyensight.core import LocalLauncher\n\nsession = LocalLauncher().start()"
      ]
    },
    {
      "cell_type": "markdown",
      "metadata": {},
      "source": [
        "## Load a dataset\nLoad RC Plane case included in the https://github.com/ansys/example-data\nrepository\n\n\n"
      ]
    },
    {
      "cell_type": "code",
      "execution_count": null,
      "metadata": {
        "collapsed": false
      },
      "outputs": [],
      "source": [
        "path = session.download_pyansys_example(\"RC_Plane\", \"pyensight\", folder=True)\nsession.load_data(os.path.join(path, \"extra300_RC_Plane_cpp.case\"))\nsession.show(\"image\", width=800, height=600)\n\nbody_parts = [\n    \"canopy\",\n    \"fuselage\",\n    \"horizontal_stabilizer\",\n    \"nose\",\n    \"vertical_stabilizer\",\n    \"wing_lower_surface\",\n    \"wing_te\",\n    \"wing_tip\",\n    \"wing_upper_surface\",\n]\n\nvref = session.ensight.utils.variables.get_const_val(\"Vinf\")\ndref = session.ensight.utils.variables.get_const_val(\"Rho\")\naoa = session.ensight.utils.variables.get_const_val(\"AoA\")\nsession.ensight.utils.variables.get_const_val(session.ensight.objs.core.VARIABLES[\"AoA\"][0])\nvxref = vref * math.cos(aoa * math.pi / 180)\nvyref = vref * math.sin(aoa * math.pi / 180)\nvzref = 0\narea_ref = None\nsession.ensight.utils.variables.calculator.area([\"wing_upper_surface\"], output_varname=\"area_ref\")\narea_ref = session.ensight.utils.variables.get_const_val(\"area_ref\")\n\nif not area_ref:\n    raise RuntimeError(\"The reference area could not be calculated\")"
      ]
    },
    {
      "cell_type": "markdown",
      "metadata": {},
      "source": [
        "Compute forces on 2D parts\n<img src=\"file://_static/06_aero_forces_1.png\">\n\n\n"
      ]
    },
    {
      "cell_type": "code",
      "execution_count": null,
      "metadata": {
        "collapsed": false
      },
      "outputs": [],
      "source": [
        "forces = session.ensight.utils.variables.compute_forces(\n    pobj_list=body_parts.copy(),\n    press_var_obj=\"staticPressure\",\n    shear_var_obj=\"wallShearStress\",\n    shear_var_type=session.ensight.utils.variables.SHEAR_VAR_TYPE_STRESS,\n    export_filename=\"test.csv\",\n    area_ref=area_ref,\n    density_ref=dref,\n    velocity_x_ref=vxref,\n    velocity_y_ref=vyref,\n    velocity_z_ref=vzref,\n    up_vector=session.ensight.utils.variables.UP_VECTOR_PLUS_Y,\n)\n\n# Hide 3D parts and mirror geometry\nsession.ensight.part.select_begin(1, 5, 7, 8, 9, 10)\nsession.ensight.part.modify_begin()\nsession.ensight.part.visible(\"OFF\")\nsession.ensight.part.modify_end()\nsession.ensight.part.select_begin(2, 3, 4, 6, 11, 12, 13, 14, 15)\nsession.ensight.view_transf.fit(0)\nsession.ensight.part.select_begin(2, 3, 4, 6, 11, 12, 13, 14, 15)\nsession.ensight.part.modify_begin()\nsession.ensight.part.symmetry_type(\"mirror\")\nsession.ensight.part.modify_end()\nsession.ensight.part.select_begin(2, 3, 4, 6, 11, 12, 13, 14, 15)\nsession.ensight.part.modify_begin()\nsession.ensight.part.symmetry_mirror_x(\"ON\")\nsession.ensight.part.modify_end()\nsession.ensight.view_transf.fit(0)\nsession.ensight.view_transf.rotate(16.3245811, 44.9999962, 0)\nsession.ensight.view.highlight_parts(\"OFF\")\n\nsession.show(\"image\", width=800, height=600)"
      ]
    },
    {
      "cell_type": "markdown",
      "metadata": {},
      "source": [
        "## Print out the computed forces\nThe compute_forces function returns a dictionary that can be easily\nwalked to get all the results\n\n\n"
      ]
    },
    {
      "cell_type": "code",
      "execution_count": null,
      "metadata": {
        "collapsed": false
      },
      "outputs": [],
      "source": [
        "for idx, axis in enumerate([\"X\", \"Y\", \"Z\"]):\n    print(f\"Per part force {axis}\")\n    total_pressure_force = 0\n    total_shear_force = 0\n    for part in body_parts:\n        part_press_force = forces[\"pressure_forces\"][part][idx]\n        part_shear_force = forces[\"shear_forces\"][part][idx]\n        print(f\"Pressure {axis} force on {part} surface: {part_press_force}\")\n        print(f\"Shear {axis} force on {part} surface: {part_shear_force}\")\n        total_pressure_force += part_press_force\n        total_shear_force += part_shear_force\n    print(f\"Total Force along the {axis} direction\")\n    print(f\"Total (Net) Pressure Force {axis} = {total_pressure_force}\")\n    print(f\"Total (Net) Shear Force {axis} = {total_shear_force}\")"
      ]
    },
    {
      "cell_type": "markdown",
      "metadata": {},
      "source": [
        "Thumbnail\nsphinx_gallery_thumbnail_path = '_static/06_aero_forces_1.png'\n\n"
      ]
    },
    {
      "cell_type": "code",
      "execution_count": null,
      "metadata": {
        "collapsed": false
      },
      "outputs": [],
      "source": [
        "session.close()"
      ]
    }
  ],
  "metadata": {
    "kernelspec": {
      "display_name": "Python 3",
      "language": "python",
      "name": "python3"
    },
    "language_info": {
      "codemirror_mode": {
        "name": "ipython",
        "version": 3
      },
      "file_extension": ".py",
      "mimetype": "text/x-python",
      "name": "python",
      "nbconvert_exporter": "python",
      "pygments_lexer": "ipython3",
      "version": "3.10.15"
    }
  },
  "nbformat": 4,
  "nbformat_minor": 0
}
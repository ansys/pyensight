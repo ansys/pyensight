{
  "cells": [
    {
      "cell_type": "code",
      "execution_count": null,
      "metadata": {
        "collapsed": false
      },
      "outputs": [],
      "source": [
        "# PyEnSight example Notebook\n#"
      ]
    },
    {
      "cell_type": "markdown",
      "metadata": {},
      "source": [
        "\n\n# Renderables\n\nEnSight is a simulation results postprocessing engine with an advanced rendering\nand display component. PyEnSight provides direct, Jupyter Notebook/Juptyer\nlab-aware access to the rendering component through renderables. This example\nexplores the variety of renderables that available.\n"
      ]
    },
    {
      "cell_type": "markdown",
      "metadata": {},
      "source": [
        "## Start an EnSight session\nLaunch and connect to an instance of EnSight.\nThis example uses a local EnSight installation.\n\n"
      ]
    },
    {
      "cell_type": "code",
      "execution_count": null,
      "metadata": {
        "collapsed": false
      },
      "outputs": [],
      "source": [
        "from ansys.pyensight.core import LocalLauncher\n\nsession = LocalLauncher().start()"
      ]
    },
    {
      "cell_type": "markdown",
      "metadata": {},
      "source": [
        "## Load a time-varying dataset\n\nLoad some data included in the EnSight installation,\napply a displacement variable to the parts, and color\nthem by a measure of plastic deformation.\n\n"
      ]
    },
    {
      "cell_type": "code",
      "execution_count": null,
      "metadata": {
        "collapsed": false
      },
      "outputs": [],
      "source": [
        "session.load_data(f\"{session.cei_home}/ensight{session.cei_suffix}/data/guard_rail/crash.case\")\n# Apply displacements\ndisplacement = session.ensight.objs.core.VARIABLES[\"displacement\"][0]\nsession.ensight.objs.core.PARTS.set_attr(\"DISPLACEBY\", displacement)\n# Color by the variable \"plastic\"\nplastic = session.ensight.objs.core.VARIABLES[\"plastic\"][0]\nsession.ensight.objs.core.PARTS.set_attr(\"COLORBYPALETTE\", plastic)\n# Adjust the palette range\nplastic.LEGEND[0].RANGE = [0.0, 0.007]\nsession.ensight.view_transf.rotate(-36.0, 23.0, 0.0)\nsession.ensight.view_transf.fit(0)"
      ]
    },
    {
      "cell_type": "markdown",
      "metadata": {},
      "source": [
        "## Show an image renderable\nShow an image renderable. This renders the image at 800x600 pixels using four\nantialiasing passes. If this code is being run in a Jupyter IDE, the cell\ndisplays the PNG image.\n\n<img src=\"file://_static/01_renderable_0.png\">\n\n"
      ]
    },
    {
      "cell_type": "code",
      "execution_count": null,
      "metadata": {
        "collapsed": false
      },
      "outputs": [],
      "source": [
        "image = session.show(\"image\", width=800, height=600, aa=4)"
      ]
    },
    {
      "cell_type": "markdown",
      "metadata": {},
      "source": [
        "### Update renderable\nThe ``Renderables`` class include several useful methods. The first is the\n:func:`update<ansys.pyensight.core.renderable.Renderable.update>` method,\nwhich regenerates the renderable.\n\nThis code adjusts the scene rotation and updates the display of the image\nin the scene.\n\n"
      ]
    },
    {
      "cell_type": "code",
      "execution_count": null,
      "metadata": {
        "collapsed": false
      },
      "outputs": [],
      "source": [
        "session.ensight.view_transf.rotate(10.0, 0.0, 0.0)\nimage.update()"
      ]
    },
    {
      "cell_type": "markdown",
      "metadata": {},
      "source": [
        "### Display renderable in a browser\n\nAll renderables display their results on web pages. The URL to the web page\nis stored in the renderable URL property. You call the\n:func:`browser<ansys.pyensight.core.renderable.Renderable.browser>` method\nto display the result of the renderable on a new browser tab.\n\n"
      ]
    },
    {
      "cell_type": "code",
      "execution_count": null,
      "metadata": {
        "collapsed": false
      },
      "outputs": [],
      "source": [
        "print(image.url)\nimage.browser()"
      ]
    },
    {
      "cell_type": "markdown",
      "metadata": {},
      "source": [
        "### Download renderable\nThe physical files that make up the display of the renderable reside in the\ncontainer/system running the EnSight instance. You can download these files\nto the local system using the\n:func:`download<ansys.pyensight.core.renderable.Renderable.download>` method.\n\n<div class=\"alert alert-info\"><h4>Note</h4><p>For an image renderable, this is a PNG file. But, depending on the type\n   of the renderable, the file format could be some other type, such as\n   TIFF, AVZ, or EVSN.</p></div>\n\n"
      ]
    },
    {
      "cell_type": "code",
      "execution_count": null,
      "metadata": {
        "collapsed": false
      },
      "outputs": [],
      "source": [
        "local_directory_pathname = \".\"\nimage.download(local_directory_pathname)"
      ]
    },
    {
      "cell_type": "markdown",
      "metadata": {},
      "source": [
        "## Show a deep pixel image renderable\nA deep pixel image is a TIFF file that has the part names and\ncurrently displayed variable values included at each pixel. For full effect,\nyou must view a deep pixel image renderable on a web page.\n\n<img src=\"file://_static/01_renderable_1.png\">\n\n"
      ]
    },
    {
      "cell_type": "code",
      "execution_count": null,
      "metadata": {
        "collapsed": false
      },
      "outputs": [],
      "source": [
        "deep_image = session.show(\"deep_pixel\", width=800, height=600, aa=4)"
      ]
    },
    {
      "cell_type": "markdown",
      "metadata": {},
      "source": [
        "## Show an animation renderable\nAn animation renderable is generated by rendering all the timesteps of the\ncurrently loaded dataset into an MPEG4 container. You can set the size of\nthe animation and the playback rate in frames per second in the call to\nthe :func:`show<ansys.pyensight.core.Session.show>` method.\n\n<img src=\"file://_static/01_renderable_2.png\">\n\n"
      ]
    },
    {
      "cell_type": "code",
      "execution_count": null,
      "metadata": {
        "collapsed": false
      },
      "outputs": [],
      "source": [
        "animation = session.show(\"animation\", width=800, height=600, aa=2, fps=2.0)"
      ]
    },
    {
      "cell_type": "markdown",
      "metadata": {},
      "source": [
        "## Show a WebGL 3D scene renderable\nCreate a 3D scene renderable and render it interactively in the web browser.\nThe scene is generated in AVZ format, which is what the\n:func:`download<ansys.pyensight.core.renderable.Renderable.download>` method\nwould pull. By default, only the current timestep is captured, but if\nyou set the ``temporal`` parameter, it can be over all timesteps.\ndatasets.\n\n<img src=\"file://_static/01_renderable_3.png\">\n\n<div class=\"alert alert-info\"><h4>Note</h4><p>Because the geometry is generated in the EnSight session and downloaded\n   to the browser for display, be careful when using this method with larger\n   datasets.</p></div>\n\n\n"
      ]
    },
    {
      "cell_type": "code",
      "execution_count": null,
      "metadata": {
        "collapsed": false
      },
      "outputs": [],
      "source": [
        "webgl = session.show(\"webgl\")"
      ]
    },
    {
      "cell_type": "markdown",
      "metadata": {},
      "source": [
        "## Interact directly with EnSight\nUse remote rendering with dynamic pixel transport to interact directly with\nthe EnSight session. The keyboard and mouse interactions are sent directly\nto EnSight in this mode.\n\n<img src=\"file://_static/01_renderable_4.png\">\n\n<div class=\"alert alert-info\"><h4>Note</h4><p>This renderable relies on a persistent, low-latency web socket connection\n   to the EnSight session. It is most useful when the EnSight session container\n   has access to hardware-accelerated rendering and when datasets/geometry get\n   larger. Multiple connections can be made to the same renderable (via HTTP).\n   Those renderables are \"shared\" between all the viewers.</p></div>\n\n\n"
      ]
    },
    {
      "cell_type": "code",
      "execution_count": null,
      "metadata": {
        "collapsed": false
      },
      "outputs": [],
      "source": [
        "remote = session.show(\"remote\")"
      ]
    },
    {
      "cell_type": "markdown",
      "metadata": {},
      "source": [
        "## Interact directly with a remote scene\nA remote scene is a renderable that is basically a wrapper around an EnSight\nscenario file. The current scene is exported and includes all active parts/variables.\nThe viewer is the EnVision app accessed through the same remote rendering\nsystem as the \"remote\" renderable. It shares many of the same benefits as\nthe remote renderable, without the overhead of an EnSight server process.\nIf downloaded, the saved file is an EnVision EVSN file.\n\n<img src=\"file://_static/01_renderable_5.png\">\n\n"
      ]
    },
    {
      "cell_type": "code",
      "execution_count": null,
      "metadata": {
        "collapsed": false
      },
      "outputs": [],
      "source": [
        "remote_scene = session.show(\"remote_scene\", width=800, height=600, temporal=True)"
      ]
    },
    {
      "cell_type": "markdown",
      "metadata": {},
      "source": [
        "## Export raw content\nThe :func:`render<ansys.pyensight.core.Session.render>` and\n:func:`geometry<ansys.pyensight.core.Session.geometry>` methods are capable\nof returning the raw file data directly, without the use of a web browser.\n\nThis example exports the raw file data for a PNG file and a GLB file.\n\n"
      ]
    },
    {
      "cell_type": "code",
      "execution_count": null,
      "metadata": {
        "collapsed": false
      },
      "outputs": [],
      "source": [
        "pngdata = session.render(1920, 1080, aa=4)\nwith open(\"simple_example.png\", \"wb\") as fp:\n    fp.write(pngdata)\nglbdata = session.geometry()\nwith open(\"simple_example.glb\", \"wb\") as fp:\n    fp.write(glbdata)"
      ]
    },
    {
      "cell_type": "markdown",
      "metadata": {},
      "source": [
        "## Close the session\nClose the connection and shut down the EnSight instance.\n\n"
      ]
    },
    {
      "cell_type": "code",
      "execution_count": null,
      "metadata": {
        "collapsed": false
      },
      "outputs": [],
      "source": [
        "session.close()"
      ]
    }
  ],
  "metadata": {
    "kernelspec": {
      "display_name": "Python 3",
      "language": "python",
      "name": "python3"
    },
    "language_info": {
      "codemirror_mode": {
        "name": "ipython",
        "version": 3
      },
      "file_extension": ".py",
      "mimetype": "text/x-python",
      "name": "python",
      "nbconvert_exporter": "python",
      "pygments_lexer": "ipython3",
      "version": "3.10.12"
    }
  },
  "nbformat": 4,
  "nbformat_minor": 0
}